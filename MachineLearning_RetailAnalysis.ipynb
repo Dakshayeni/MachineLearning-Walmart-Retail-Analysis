{
 "cells": [
  {
   "cell_type": "code",
   "execution_count": 1,
   "metadata": {
    "id": "whgCFbRrieYT"
   },
   "outputs": [
    {
     "name": "stdout",
     "output_type": "stream",
     "text": [
      "WARNING:tensorflow:From E:\\New_folder\\Lib\\site-packages\\keras\\src\\losses.py:2976: The name tf.losses.sparse_softmax_cross_entropy is deprecated. Please use tf.compat.v1.losses.sparse_softmax_cross_entropy instead.\n",
      "\n"
     ]
    }
   ],
   "source": [
    "import numpy as np\n",
    "import pandas as pd\n",
    "import re\n",
    "from sklearn.preprocessing import LabelEncoder\n",
    "import matplotlib.ticker as ticker\n",
    "import seaborn as sns\n",
    "import matplotlib.pyplot as plt\n",
    "sns.set(style='darkgrid')\n",
    "# from wordcloud import WordCloud\n",
    "import tensorflow as tf\n",
    "import keras\n",
    "from sklearn.model_selection import train_test_split\n",
    "from sklearn.preprocessing import LabelEncoder\n",
    "from tensorflow.keras.models import Sequential\n",
    "from tensorflow.keras.layers import Dense\n",
    "from tensorflow.keras.utils import to_categorical\n",
    "from sklearn.preprocessing import MultiLabelBinarizer, StandardScaler\n",
    "from sklearn.metrics import accuracy_score\n",
    "from sklearn.preprocessing import StandardScaler"
   ]
  },
  {
   "cell_type": "markdown",
   "metadata": {
    "id": "UQLcb31JinOj"
   },
   "source": [
    "# Load the dataset"
   ]
  },
  {
   "cell_type": "code",
   "execution_count": 2,
   "metadata": {
    "colab": {
     "base_uri": "https://localhost:8080/"
    },
    "id": "jR5jVykiim4D",
    "outputId": "bb0ea793-c622-47ef-c8c8-2a2de30aa2f3"
   },
   "outputs": [
    {
     "name": "stdout",
     "output_type": "stream",
     "text": [
      "           user_id    bill_id  line_item_amount  bill_discount  \\\n",
      "0        519644808  741961800          559.6000            0.0   \n",
      "1        519644808  741961800          559.6000            0.0   \n",
      "2        504795522  692673877          699.5000            0.0   \n",
      "3         12626591  768369011          519.6000            0.0   \n",
      "4         12626591  768369011          519.6000            0.0   \n",
      "...            ...        ...               ...            ...   \n",
      "8454378  411973512  430742644         1825.3281            0.0   \n",
      "8454379  411973512  430742644         1825.3281            0.0   \n",
      "8454380  411973512  430742644         1825.3281            0.0   \n",
      "8454381  275148389  428988128         1470.0000            0.0   \n",
      "8454382  343405060  432088540         1149.0000         1700.0   \n",
      "\n",
      "        transaction_date                                   description  \\\n",
      "0             2022-04-20         MBL ITA16BLT004 Regular Casual Tan 32   \n",
      "1             2022-04-20         MBL ITA16BLT004 Regular Casual Tan 32   \n",
      "2             2022-01-27         MBL ITA16BLT004 Regular Casual Tan 34   \n",
      "3             2022-10-09  MBL ITA16BLT001 Regular Casual Dark Brown 32   \n",
      "4             2022-10-09  MBL ITA16BLT001 Regular Casual Dark Brown 32   \n",
      "...                  ...                                           ...   \n",
      "8454378       2018-12-26           MSW ITMSW00072 Regular LS Black 2XL   \n",
      "8454379       2018-12-26           MSW ITMSW00072 Regular LS Black 2XL   \n",
      "8454380       2018-12-26           MSW ITMSW00072 Regular LS Black 2XL   \n",
      "8454381       2018-12-19                    Mens Shirt  JeanswearSizeL   \n",
      "8454382       2018-12-31                MSH ITMSH01210 Slim SS Peach L   \n",
      "\n",
      "                          inventory_category        colour          size  \\\n",
      "0                                  MENS BELT           Tan            32   \n",
      "1                                  MENS BELT           Tan            32   \n",
      "2                                  MENS BELT           Tan            34   \n",
      "3                                  MENS BELT    Dark Brown            32   \n",
      "4                                  MENS BELT    Dark Brown            32   \n",
      "...                                      ...           ...           ...   \n",
      "8454378  MSW ITMSW00072 Regular LS Black 2XL         Black           2XL   \n",
      "8454379  MSW ITMSW00072 Regular LS Black 2XL         Black           2XL   \n",
      "8454380  MSW ITMSW00072 Regular LS Black 2XL         Black           2XL   \n",
      "8454381           Mens Shirt  JeanswearSizeL  NOT-CAPTURED  NOT-CAPTURED   \n",
      "8454382       MSH ITMSH01210 Slim SS Peach L         Peach             L   \n",
      "\n",
      "        zone_name     store_name  year  \n",
      "0           North     North_6023  2022  \n",
      "1           North     North_6023  2022  \n",
      "2            East      East_6510  2022  \n",
      "3           South     South_6017  2022  \n",
      "4           South     South_6017  2022  \n",
      "...           ...            ...   ...  \n",
      "8454378     North     North_7417  2018  \n",
      "8454379     North     North_7417  2018  \n",
      "8454380     North     North_7417  2018  \n",
      "8454381      ROOT  ROOT_webstore  2018  \n",
      "8454382     South     South_7494  2018  \n",
      "\n",
      "[8454383 rows x 12 columns]\n"
     ]
    }
   ],
   "source": [
    "# Load the dataset\n",
    "file_path_1 = 'data_2022.csv'\n",
    "file_path_2 = 'data_2021.csv'\n",
    "file_path_3 = 'data_2020.csv'\n",
    "file_path_4 = 'data_2019.csv'\n",
    "file_path_5 = 'data_2018.csv'\n",
    "\n",
    "# Read each CSV file into a dataframe\n",
    "df1 = pd.read_csv(file_path_1)\n",
    "df2 = pd.read_csv(file_path_2)\n",
    "df3 = pd.read_csv(file_path_3)\n",
    "df4 = pd.read_csv(file_path_4)\n",
    "df5 = pd.read_csv(file_path_5)\n",
    "\n",
    "# Concatenate the dataframes\n",
    "data = pd.concat([df1, df2, df3, df4, df5], ignore_index=True)\n",
    "\n",
    "# Print the combined dataframe\n",
    "print(data)"
   ]
  },
  {
   "cell_type": "markdown",
   "metadata": {
    "id": "5ALYU3eYivpa"
   },
   "source": [
    "# Check for missing values"
   ]
  },
  {
   "cell_type": "code",
   "execution_count": 3,
   "metadata": {
    "colab": {
     "base_uri": "https://localhost:8080/",
     "height": 206
    },
    "id": "gpMSwTbsgwYp",
    "outputId": "86ea5b3a-a008-4834-8846-80a03fa3421c"
   },
   "outputs": [
    {
     "data": {
      "text/html": [
       "<div>\n",
       "<style scoped>\n",
       "    .dataframe tbody tr th:only-of-type {\n",
       "        vertical-align: middle;\n",
       "    }\n",
       "\n",
       "    .dataframe tbody tr th {\n",
       "        vertical-align: top;\n",
       "    }\n",
       "\n",
       "    .dataframe thead th {\n",
       "        text-align: right;\n",
       "    }\n",
       "</style>\n",
       "<table border=\"1\" class=\"dataframe\">\n",
       "  <thead>\n",
       "    <tr style=\"text-align: right;\">\n",
       "      <th></th>\n",
       "      <th>user_id</th>\n",
       "      <th>bill_id</th>\n",
       "      <th>line_item_amount</th>\n",
       "      <th>bill_discount</th>\n",
       "      <th>transaction_date</th>\n",
       "      <th>description</th>\n",
       "      <th>inventory_category</th>\n",
       "      <th>colour</th>\n",
       "      <th>size</th>\n",
       "      <th>zone_name</th>\n",
       "      <th>store_name</th>\n",
       "      <th>year</th>\n",
       "    </tr>\n",
       "  </thead>\n",
       "  <tbody>\n",
       "    <tr>\n",
       "      <th>0</th>\n",
       "      <td>519644808</td>\n",
       "      <td>741961800</td>\n",
       "      <td>559.6</td>\n",
       "      <td>0.0</td>\n",
       "      <td>2022-04-20</td>\n",
       "      <td>MBL ITA16BLT004 Regular Casual Tan 32</td>\n",
       "      <td>MENS BELT</td>\n",
       "      <td>Tan</td>\n",
       "      <td>32</td>\n",
       "      <td>North</td>\n",
       "      <td>North_6023</td>\n",
       "      <td>2022</td>\n",
       "    </tr>\n",
       "    <tr>\n",
       "      <th>1</th>\n",
       "      <td>519644808</td>\n",
       "      <td>741961800</td>\n",
       "      <td>559.6</td>\n",
       "      <td>0.0</td>\n",
       "      <td>2022-04-20</td>\n",
       "      <td>MBL ITA16BLT004 Regular Casual Tan 32</td>\n",
       "      <td>MENS BELT</td>\n",
       "      <td>Tan</td>\n",
       "      <td>32</td>\n",
       "      <td>North</td>\n",
       "      <td>North_6023</td>\n",
       "      <td>2022</td>\n",
       "    </tr>\n",
       "    <tr>\n",
       "      <th>2</th>\n",
       "      <td>504795522</td>\n",
       "      <td>692673877</td>\n",
       "      <td>699.5</td>\n",
       "      <td>0.0</td>\n",
       "      <td>2022-01-27</td>\n",
       "      <td>MBL ITA16BLT004 Regular Casual Tan 34</td>\n",
       "      <td>MENS BELT</td>\n",
       "      <td>Tan</td>\n",
       "      <td>34</td>\n",
       "      <td>East</td>\n",
       "      <td>East_6510</td>\n",
       "      <td>2022</td>\n",
       "    </tr>\n",
       "    <tr>\n",
       "      <th>3</th>\n",
       "      <td>12626591</td>\n",
       "      <td>768369011</td>\n",
       "      <td>519.6</td>\n",
       "      <td>0.0</td>\n",
       "      <td>2022-10-09</td>\n",
       "      <td>MBL ITA16BLT001 Regular Casual Dark Brown 32</td>\n",
       "      <td>MENS BELT</td>\n",
       "      <td>Dark Brown</td>\n",
       "      <td>32</td>\n",
       "      <td>South</td>\n",
       "      <td>South_6017</td>\n",
       "      <td>2022</td>\n",
       "    </tr>\n",
       "    <tr>\n",
       "      <th>4</th>\n",
       "      <td>12626591</td>\n",
       "      <td>768369011</td>\n",
       "      <td>519.6</td>\n",
       "      <td>0.0</td>\n",
       "      <td>2022-10-09</td>\n",
       "      <td>MBL ITA16BLT001 Regular Casual Dark Brown 32</td>\n",
       "      <td>MENS BELT</td>\n",
       "      <td>Dark Brown</td>\n",
       "      <td>32</td>\n",
       "      <td>South</td>\n",
       "      <td>South_6017</td>\n",
       "      <td>2022</td>\n",
       "    </tr>\n",
       "  </tbody>\n",
       "</table>\n",
       "</div>"
      ],
      "text/plain": [
       "     user_id    bill_id  line_item_amount  bill_discount transaction_date  \\\n",
       "0  519644808  741961800             559.6            0.0       2022-04-20   \n",
       "1  519644808  741961800             559.6            0.0       2022-04-20   \n",
       "2  504795522  692673877             699.5            0.0       2022-01-27   \n",
       "3   12626591  768369011             519.6            0.0       2022-10-09   \n",
       "4   12626591  768369011             519.6            0.0       2022-10-09   \n",
       "\n",
       "                                    description inventory_category  \\\n",
       "0         MBL ITA16BLT004 Regular Casual Tan 32          MENS BELT   \n",
       "1         MBL ITA16BLT004 Regular Casual Tan 32          MENS BELT   \n",
       "2         MBL ITA16BLT004 Regular Casual Tan 34          MENS BELT   \n",
       "3  MBL ITA16BLT001 Regular Casual Dark Brown 32          MENS BELT   \n",
       "4  MBL ITA16BLT001 Regular Casual Dark Brown 32          MENS BELT   \n",
       "\n",
       "       colour size zone_name  store_name  year  \n",
       "0         Tan   32     North  North_6023  2022  \n",
       "1         Tan   32     North  North_6023  2022  \n",
       "2         Tan   34      East   East_6510  2022  \n",
       "3  Dark Brown   32     South  South_6017  2022  \n",
       "4  Dark Brown   32     South  South_6017  2022  "
      ]
     },
     "execution_count": 3,
     "metadata": {},
     "output_type": "execute_result"
    }
   ],
   "source": [
    "data.head()"
   ]
  },
  {
   "cell_type": "code",
   "execution_count": 4,
   "metadata": {
    "colab": {
     "base_uri": "https://localhost:8080/"
    },
    "id": "s8R82FAmimGk",
    "outputId": "2e9a9de2-b7de-49bd-ffe7-977c0ccf73b5"
   },
   "outputs": [
    {
     "name": "stdout",
     "output_type": "stream",
     "text": [
      "Initial Missing Values:\n",
      " user_id                    0\n",
      "bill_id                    0\n",
      "line_item_amount           0\n",
      "bill_discount              0\n",
      "transaction_date           0\n",
      "description               17\n",
      "inventory_category    697444\n",
      "colour                 15555\n",
      "size                   15555\n",
      "zone_name                  0\n",
      "store_name                 0\n",
      "year                       0\n",
      "dtype: int64\n"
     ]
    }
   ],
   "source": [
    "# Display the initial state of missing values\n",
    "print(\"Initial Missing Values:\\n\", data.isnull().sum())"
   ]
  },
  {
   "cell_type": "markdown",
   "metadata": {
    "id": "iVxr09zrn4ht"
   },
   "source": [
    "# Dropping the duplicates\n",
    "\n",
    "dropping duplicates for exact items."
   ]
  },
  {
   "cell_type": "code",
   "execution_count": 5,
   "metadata": {
    "colab": {
     "base_uri": "https://localhost:8080/"
    },
    "id": "nPgYtsTymz0O",
    "outputId": "9fffbf32-992c-4c58-f7db-a713dfe7e756"
   },
   "outputs": [
    {
     "name": "stdout",
     "output_type": "stream",
     "text": [
      "Number of rows before removing duplicates: 8454383\n",
      "\n",
      "Number of duplicate rows: 1898076\n",
      "\n",
      "Preview of duplicate rows:\n",
      "     user_id    bill_id  line_item_amount  bill_discount transaction_date  \\\n",
      "1  519644808  741961800             559.6            0.0       2022-04-20   \n",
      "4   12626591  768369011             519.6            0.0       2022-10-09   \n",
      "5   12626591  768369011             519.6            0.0       2022-10-09   \n",
      "6   12626591  768369011             519.6            0.0       2022-10-09   \n",
      "7   12626591  768369011             519.6            0.0       2022-10-09   \n",
      "\n",
      "                                    description inventory_category  \\\n",
      "1         MBL ITA16BLT004 Regular Casual Tan 32          MENS BELT   \n",
      "4  MBL ITA16BLT001 Regular Casual Dark Brown 32          MENS BELT   \n",
      "5  MBL ITA16BLT001 Regular Casual Dark Brown 32          MENS BELT   \n",
      "6  MBL ITA16BLT001 Regular Casual Dark Brown 32          MENS BELT   \n",
      "7  MBL ITA16BLT001 Regular Casual Dark Brown 32          MENS BELT   \n",
      "\n",
      "       colour size zone_name  store_name  year  \n",
      "1         Tan   32     North  North_6023  2022  \n",
      "4  Dark Brown   32     South  South_6017  2022  \n",
      "5  Dark Brown   32     South  South_6017  2022  \n",
      "6  Dark Brown   32     South  South_6017  2022  \n",
      "7  Dark Brown   32     South  South_6017  2022  \n",
      "\n",
      "Number of rows after removing duplicates: 6556307\n"
     ]
    }
   ],
   "source": [
    "# Display the number of rows before removing duplicates\n",
    "print(\"Number of rows before removing duplicates:\", len(data))\n",
    "\n",
    "# Identify duplicates: This will mark rows as True if they are duplicates\n",
    "duplicates = data.duplicated()\n",
    "print(\"\\nNumber of duplicate rows:\", duplicates.sum())\n",
    "\n",
    "# Optional: Review some of the duplicate rows\n",
    "print(\"\\nPreview of duplicate rows:\")\n",
    "print(data[duplicates].head())\n",
    "\n",
    "# Remove duplicates: This keeps the first occurrence and removes subsequent duplicate rows\n",
    "data = data.drop_duplicates()\n",
    "\n",
    "# Display the number of rows after removing duplicates\n",
    "print(\"\\nNumber of rows after removing duplicates:\", len(data))"
   ]
  },
  {
   "cell_type": "markdown",
   "metadata": {
    "id": "nLzOtgekoGmS"
   },
   "source": [
    "# Extracting Product from descriptions"
   ]
  },
  {
   "cell_type": "code",
   "execution_count": 6,
   "metadata": {
    "colab": {
     "base_uri": "https://localhost:8080/"
    },
    "id": "43SIW1raj7oy",
    "outputId": "1bca1f71-a0e8-4773-f2a8-1edfb333433c"
   },
   "outputs": [],
   "source": [
    "# Function to extract product name based on the pattern\n",
    "def get_product(txt, pattern):\n",
    "    if isinstance(txt, str):\n",
    "        # Search and check if split word exists\n",
    "        searched_word = re.search(pattern, txt)\n",
    "        # Word exists\n",
    "        if searched_word:\n",
    "            splitted_string = re.split(pattern, txt)[0]\n",
    "            # Check if empty list is returned (when there is only pattern available in 'txt')\n",
    "            if splitted_string == '':\n",
    "                return 'Unknown'\n",
    "            else:\n",
    "                return splitted_string.strip()\n",
    "        # Split word not exists (but the product name can still be present, so we'll need the entire string)\n",
    "        else:\n",
    "            return txt\n",
    "    # Any other value found other than string datatype\n",
    "    else:\n",
    "        return 'Unknown'\n",
    "\n",
    "# Copying 'description' column\n",
    "data['desc_copy'] = data['description'].copy()\n",
    "data['desc_copy'] = data['desc_copy'].fillna('Unknown')\n",
    "\n",
    "# Apply get_product function for patterns starting with IT, CORE-, A16-, A17-, S16-, S18-, TBA07SD7890 (LENGTH=11)\n",
    "data['product'] = data['desc_copy'].apply(lambda row: get_product(row, pattern=r'IT[A-Z0-9]+|CORE-|\\b[A-Z]\\d{2}-|\\b[A-Z0-9]{11}\\b'))\n",
    "\n",
    "# Product names as acronyms are their lengths are not greater than 2.\n",
    "data['product'] = data['product'].apply(lambda row: 'Unknown' if len(row.split()) >= 2 else row)\n",
    "\n",
    "# Removing inconsistent data\n",
    "data['product'] = data['product'].apply(lambda row: 'Unknown' if re.search(r'\\d+|size|name|bill|amount|quantity|email|address|number|city|state|country|code|customer|discount|sex', row, flags=re.IGNORECASE) else row)"
   ]
  },
  {
   "cell_type": "code",
   "execution_count": 7,
   "metadata": {
    "id": "XFAbOyyZkedt"
   },
   "outputs": [],
   "source": [
    "# removing more inconsistent data\n",
    "invalid_vals = ['CALandLine', 'CAMobile', 'Cashier','PendingOrders','DOB', 'DOA', 'LastVisit', 'Points',\n",
    "'Anniversary', 'CashierMBO','OrderCashier','CreditLimit',\n",
    "'DateOfAnniversary', 'OtherDetails', 'IsReminderRequired',\n",
    "'AgreeToReceiveSMS', 'Gender', 'AwarenessSourceRemarks',\n",
    "'AllowCredit', 'CreditDays', 'AgreeToReceiveCall', 'DateOfBirth','Administrator','MRPValue','CGST', 'BatchDescription',\n",
    "'TaxDescription', 'IsActive', 'CardExpiryDate','DealerType','DND','DEFAULT']\n",
    "\n",
    "data[['product']] = data[['product']].applymap(lambda val: 'Unknown' if val in invalid_vals else val)"
   ]
  },
  {
   "cell_type": "markdown",
   "metadata": {
    "id": "g4INzB_JoPL7"
   },
   "source": [
    "# Handling missing values for inventory category, colors and size"
   ]
  },
  {
   "cell_type": "code",
   "execution_count": 8,
   "metadata": {
    "id": "eEwymwyxkfeP"
   },
   "outputs": [],
   "source": [
    "data['ic_copy'] = data['inventory_category'].copy()\n",
    "data['ic_copy'] = data['ic_copy'].fillna('Unknown')\n",
    "data[['ic_copy']] = data[['ic_copy']].applymap(lambda row: re.sub(r'na','',row,flags=re.IGNORECASE))\n",
    "\n",
    "data['colour'] = data['colour'].fillna('Unknown')\n",
    "data['colour'] = data['colour'].str.replace('NOT-CAPTURED','Unknown')\n",
    "\n",
    "data['size'] = data['size'].fillna('Unknown')\n",
    "data['size'] = data['size'].str.replace('NOT-CAPTURED','Unknown')"
   ]
  },
  {
   "cell_type": "markdown",
   "metadata": {
    "id": "CQy12J0goX1x"
   },
   "source": [
    "# Handling missing values for color"
   ]
  },
  {
   "cell_type": "code",
   "execution_count": 9,
   "metadata": {
    "colab": {
     "base_uri": "https://localhost:8080/"
    },
    "id": "q-UHEPttlCE1",
    "outputId": "6c1fb25b-cd83-4538-e2f3-1ef70e3fa4c2"
   },
   "outputs": [
    {
     "name": "stdout",
     "output_type": "stream",
     "text": [
      "Unique colours count before: 402\n",
      "Colours found:  1859280\n",
      "Unique colours count after: 457\n"
     ]
    }
   ],
   "source": [
    "all_colours = data['colour'].value_counts().index.tolist()\n",
    "pattern = r'\\b(?:' + '|'.join(re.escape(color)  for color in all_colours if isinstance(color,str)) + r')\\b'\n",
    "\n",
    "def find(txt,pattern):\n",
    "    x = re.findall(pattern, txt,flags=re.IGNORECASE)\n",
    "    if x==[]:\n",
    "        return ('Unknown')\n",
    "    return ' '.join(x)\n",
    "\n",
    "print('Unique colours count before:',len(data['colour'].unique()))\n",
    "\n",
    "unknown_colours_bef = data[data['colour']=='Unknown'].shape[0]\n",
    "data.loc[(data['colour']=='Unknown'),'colour'] = data.loc[(data['colour']=='Unknown'),'ic_copy'].map(lambda row: find(row,pattern))\n",
    "unknown_colours_after = data[data['colour']=='Unknown'].shape[0]\n",
    "print('Colours found: ',unknown_colours_bef - unknown_colours_after)\n",
    "\n",
    "print('Unique colours count after:',len(data['colour'].unique()))"
   ]
  },
  {
   "cell_type": "markdown",
   "metadata": {
    "id": "yH4Zbx0Eocny"
   },
   "source": [
    "# Handling missing values for size"
   ]
  },
  {
   "cell_type": "code",
   "execution_count": 10,
   "metadata": {
    "colab": {
     "base_uri": "https://localhost:8080/"
    },
    "id": "pe4bMDJ_mQrx",
    "outputId": "45cc27b0-82e4-4031-c740-c147edfd68e6"
   },
   "outputs": [
    {
     "name": "stdout",
     "output_type": "stream",
     "text": [
      "Unique sizes before: 68\n",
      "Sizes found:  17465\n",
      "Unique sizes after: 82\n"
     ]
    }
   ],
   "source": [
    "def find_size(txt,pattern):\n",
    "    try:\n",
    "\n",
    "        x = re.findall(pattern,txt,flags=re.IGNORECASE)\n",
    "        if x==[]:\n",
    "            return ('Unknown')\n",
    "\n",
    "        x =  ', '.join(x)\n",
    "        if x != '':\n",
    "            return (txt.split(x)[1])\n",
    "    except:\n",
    "        return 'Unknown'\n",
    "\n",
    "print('Unique sizes before:',len(data['size'].unique()))\n",
    "\n",
    "unknown_size_bef = data[data['size']=='Unknown'].shape[0]\n",
    "data.loc[(data['size']=='Unknown'),'size'] = data.loc[(data['size']=='Unknown'),'ic_copy'].map(lambda row: find_size(row,r'Size'))\n",
    "#some rows contains sizes seperated by ( , ) like m,s  which is incorrect as at a time a product can have only 1 size\n",
    "data[['size']] = data[['size']].applymap(lambda x: x.split(' ')[-1].strip() if ' ' in x else x)\n",
    "unknown_size_after = data[data['size']=='Unknown'].shape[0]\n",
    "print('Sizes found: ',unknown_size_bef - unknown_size_after)\n",
    "\n",
    "print('Unique sizes after:',len(data['size'].unique()))"
   ]
  },
  {
   "cell_type": "code",
   "execution_count": 11,
   "metadata": {
    "colab": {
     "base_uri": "https://localhost:8080/"
    },
    "id": "dq-cdm4999eK",
    "outputId": "27a16706-b4f7-4e6d-ae06-7161614f2be2"
   },
   "outputs": [
    {
     "name": "stdout",
     "output_type": "stream",
     "text": [
      "['32' '34' 'L' 'S' 'XL' '38' '36' 'M' '30' '28' '2XL' 'ES' 'EES' '40' '42'\n",
      " '3XL' 'EL' '4XL' 'Unknown' 'EEL' '44' 'Foot' '18CM' '46' 'XS' '50' '6XL'\n",
      " '5XL' '52' '48' '23CM' '24CM' '23Y' '45Y' '1516Y' '11Y' '23cm' '1314Y'\n",
      " '1112Y' '54' 'Length' '67Y' '1011Y' '89Y' '40CM' '54cm' '20CM' '8'\n",
      " 'DEFAULT' '22CM' '(23x6x28)' '(32x19x48)' '112CM' 'Free' '(45x23x27)'\n",
      " 'SColorBlue' '117CM' '97CM' '102CM' '107CM' '92CM' 'Show' 'cm' '77CM'\n",
      " '87CM' '10' '9' '38CM' '42CM' '82CM' '46CM' 'XXL' '31CM' 'FootLt22CM'\n",
      " '24' '35CM' 'BAG' '7' '48CM' '44CM' '67CM' '11']\n"
     ]
    }
   ],
   "source": [
    "print(data['size'].unique())"
   ]
  },
  {
   "cell_type": "markdown",
   "metadata": {
    "id": "zscc5nbjofb9"
   },
   "source": [
    "# Replacing abbreviations of products"
   ]
  },
  {
   "cell_type": "code",
   "execution_count": 12,
   "metadata": {
    "id": "v3ltuBdnmBNA"
   },
   "outputs": [],
   "source": [
    "replace = {'TR':'MENS TROUSER',\n",
    "'MSP':'MENS SPORTSCOAT',\n",
    "'BSP':'MENS SPORTSCOAT',\n",
    "'TWB': 'MENS TROUSER WITH BELT',\n",
    "'JKT': 'MENS JACKET',\n",
    "'SH':'MENS SHIRT',\n",
    "'MSH':'MENS SHIRT',\n",
    "'MTR':'MENS TROUSER WITH BELT',\n",
    "'MBL':'MENS BELT',\n",
    "'BLT':'MENS BELT',\n",
    "'SR':'MENS SHORTS',\n",
    "'MTS':'MENS T-SHIRT',\n",
    "'TS':'MENS T-SHIRT',\n",
    "'BSH':'BOYS SHIRT',\n",
    "'SW':'MENS SWEATER',\n",
    "'BDE':'BOYS DENIM',\n",
    "'MFW':'MENS FOOTWEAR',\n",
    "'FW':'MENS FOOTWEAR',\n",
    "'BDNM':'BOYS DENIM',\n",
    "'SX':'MENS SOCKS',\n",
    "'MSO':'MENS SHORTS',\n",
    "'SO':'MENS SHORTS',\n",
    "'MDE':'MENS DENIM',\n",
    "'BTS':'BOYS T-SHIRT',\n",
    "'BSO':'BOYS SHORTS',\n",
    "'MDNM':'MENS DENIM',\n",
    "'BTR':'BOYS TROUSER',\n",
    "'MSW':'MENS SWEATER',\n",
    "'SCKS':'MENS SOCKS',\n",
    "'MSX':'MENS SOCKS',\n",
    "'BSW':'BOYS SWEATER',\n",
    "'MJKT':'MENS JACKET',\n",
    "'MJA':'MENS JACKET',\n",
    "'BJKT':'BOYS JACKET',\n",
    "'BJO':'BOYS Jogger',\n",
    "'MSC':'MENS JACKET',\n",
    "'BS':'BOYS SHIRT',\n",
    "'MWL':'Mens Wallet - Sportswear',\n",
    "'BJA':'BOYS JACKET',\n",
    "'BSR':'BOYS SHORTS',\n",
    "'MDN':'MENS Denim Trouser',\n",
    "'BDN':'Boys Denim Trouser - Jeanswear',\n",
    "'KT':'MENS KNIT TROUSER',\n",
    "'MJGR':'MENS JOGGER',\n",
    "'TBG':'Trolley Bag',\n",
    "'CBG':'CARRY BAG',\n",
    "'MTIE':'MALE TIE',\n",
    "'MJO':'MENS JOGGER',\n",
    "'MWC':'MENS BANDI'}\n",
    "\n",
    "data['product'] = data['product'].map(lambda x: replace[x] if x in replace.keys() else x)"
   ]
  },
  {
   "cell_type": "code",
   "execution_count": 13,
   "metadata": {
    "colab": {
     "base_uri": "https://localhost:8080/"
    },
    "id": "3W2LVAkJpHOS",
    "outputId": "5e5c71bf-4a2d-4744-d79d-44a57bbe1bd3"
   },
   "outputs": [
    {
     "name": "stdout",
     "output_type": "stream",
     "text": [
      "      user_id    bill_id  line_item_amount  bill_discount transaction_date  \\\n",
      "0   519644808  741961800          559.6000            0.0       2022-04-20   \n",
      "2   504795522  692673877          699.5000            0.0       2022-01-27   \n",
      "3    12626591  768369011          519.6000            0.0       2022-10-09   \n",
      "10  496507098  779140853          559.6000            0.0       2022-11-10   \n",
      "12  518922122  740235900          937.1713            0.0       2022-07-04   \n",
      "13  265821333  741719450         1243.0383            0.0       2022-04-08   \n",
      "15  505086766  693993536         1384.2867            0.0       2022-02-02   \n",
      "16  519752413  742055389         2999.5000            0.0       2022-04-22   \n",
      "17  519068031  740843639         1063.0603            0.0       2022-07-06   \n",
      "19  357496939  747217849         1449.5000            0.0       2022-07-28   \n",
      "\n",
      "                                     description inventory_category  \\\n",
      "0          MBL ITA16BLT004 Regular Casual Tan 32          MENS BELT   \n",
      "2          MBL ITA16BLT004 Regular Casual Tan 34          MENS BELT   \n",
      "3   MBL ITA16BLT001 Regular Casual Dark Brown 32          MENS BELT   \n",
      "10         MBL ITS17BLT005 Regular Casual Tan 34          MENS BELT   \n",
      "12             BSW TBA17SWK607 Regular LS Navy L       BOYS SWEATER   \n",
      "13                MSH ITA17SHK234 Slim LS Navy S         MENS SHIRT   \n",
      "15                MSH ITA17SHK234 Slim LS Navy S         MENS SHIRT   \n",
      "16          MJA ITA17JKK007 Sportcoat LS Navy XL        MENS JACKET   \n",
      "17            MTR ITMTR00017 Kansas FF Cement 38       MENS TROUSER   \n",
      "19            MTR ITMTR00048 Brooklyn FF Navy 34       MENS TROUSER   \n",
      "\n",
      "        colour size zone_name  store_name  year  \\\n",
      "0          Tan   32     North  North_6023  2022   \n",
      "2          Tan   34      East   East_6510  2022   \n",
      "3   Dark Brown   32     South  South_6017  2022   \n",
      "10         Tan   34     South  South_6028  2022   \n",
      "12        Navy    L     South  South_6028  2022   \n",
      "13        Navy    S     South  South_6001  2022   \n",
      "15        Navy    S     South  South_7474  2022   \n",
      "16        Navy   XL     South  South_6028  2022   \n",
      "17      Cement   38     South  South_6005  2022   \n",
      "19        Navy   34      East   East_6510  2022   \n",
      "\n",
      "                                       desc_copy                 product  \\\n",
      "0          MBL ITA16BLT004 Regular Casual Tan 32               MENS BELT   \n",
      "2          MBL ITA16BLT004 Regular Casual Tan 34               MENS BELT   \n",
      "3   MBL ITA16BLT001 Regular Casual Dark Brown 32               MENS BELT   \n",
      "10         MBL ITS17BLT005 Regular Casual Tan 34               MENS BELT   \n",
      "12             BSW TBA17SWK607 Regular LS Navy L            BOYS SWEATER   \n",
      "13                MSH ITA17SHK234 Slim LS Navy S              MENS SHIRT   \n",
      "15                MSH ITA17SHK234 Slim LS Navy S              MENS SHIRT   \n",
      "16          MJA ITA17JKK007 Sportcoat LS Navy XL             MENS JACKET   \n",
      "17            MTR ITMTR00017 Kansas FF Cement 38  MENS TROUSER WITH BELT   \n",
      "19            MTR ITMTR00048 Brooklyn FF Navy 34  MENS TROUSER WITH BELT   \n",
      "\n",
      "         ic_copy  \n",
      "0      MENS BELT  \n",
      "2      MENS BELT  \n",
      "3      MENS BELT  \n",
      "10     MENS BELT  \n",
      "12  BOYS SWEATER  \n",
      "13    MENS SHIRT  \n",
      "15    MENS SHIRT  \n",
      "16   MENS JACKET  \n",
      "17  MENS TROUSER  \n",
      "19  MENS TROUSER  \n"
     ]
    }
   ],
   "source": [
    "print(data.head(10))"
   ]
  },
  {
   "cell_type": "markdown",
   "metadata": {},
   "source": [
    "# Extracting Date, Year , Month, Day of Week(Feature Engineering)"
   ]
  },
  {
   "cell_type": "code",
   "execution_count": 14,
   "metadata": {
    "colab": {
     "base_uri": "https://localhost:8080/"
    },
    "id": "CdM0IuBkrLAh",
    "outputId": "f02590b4-aabc-4342-f6ab-1e7e9bf9d7aa"
   },
   "outputs": [
    {
     "name": "stdout",
     "output_type": "stream",
     "text": [
      "      user_id    bill_id  line_item_amount  bill_discount transaction_date  \\\n",
      "0   519644808  741961800          559.6000            0.0       2022-04-20   \n",
      "2   504795522  692673877          699.5000            0.0       2022-01-27   \n",
      "3    12626591  768369011          519.6000            0.0       2022-10-09   \n",
      "10  496507098  779140853          559.6000            0.0       2022-11-10   \n",
      "12  518922122  740235900          937.1713            0.0       2022-07-04   \n",
      "\n",
      "                                     description inventory_category  \\\n",
      "0          MBL ITA16BLT004 Regular Casual Tan 32          MENS BELT   \n",
      "2          MBL ITA16BLT004 Regular Casual Tan 34          MENS BELT   \n",
      "3   MBL ITA16BLT001 Regular Casual Dark Brown 32          MENS BELT   \n",
      "10         MBL ITS17BLT005 Regular Casual Tan 34          MENS BELT   \n",
      "12             BSW TBA17SWK607 Regular LS Navy L       BOYS SWEATER   \n",
      "\n",
      "        colour size zone_name  store_name  year  \\\n",
      "0          Tan   32     North  North_6023  2022   \n",
      "2          Tan   34      East   East_6510  2022   \n",
      "3   Dark Brown   32     South  South_6017  2022   \n",
      "10         Tan   34     South  South_6028  2022   \n",
      "12        Navy    L     South  South_6028  2022   \n",
      "\n",
      "                                       desc_copy       product       ic_copy  \\\n",
      "0          MBL ITA16BLT004 Regular Casual Tan 32     MENS BELT     MENS BELT   \n",
      "2          MBL ITA16BLT004 Regular Casual Tan 34     MENS BELT     MENS BELT   \n",
      "3   MBL ITA16BLT001 Regular Casual Dark Brown 32     MENS BELT     MENS BELT   \n",
      "10         MBL ITS17BLT005 Regular Casual Tan 34     MENS BELT     MENS BELT   \n",
      "12             BSW TBA17SWK607 Regular LS Navy L  BOYS SWEATER  BOYS SWEATER   \n",
      "\n",
      "    month  day  day_of_week  quarter  day_of_year  \n",
      "0       4   20            2        2          110  \n",
      "2       1   27            3        1           27  \n",
      "3      10    9            6        4          282  \n",
      "10     11   10            3        4          314  \n",
      "12      7    4            0        3          185  \n"
     ]
    }
   ],
   "source": [
    "# Ensure 'transaction_date' is in datetime format\n",
    "data['transaction_date'] = pd.to_datetime(data['transaction_date'])\n",
    "\n",
    "# Feature Engineering\n",
    "# Extracting year, month, and day\n",
    "data['year'] = data['transaction_date'].dt.year\n",
    "data['month'] = data['transaction_date'].dt.month\n",
    "data['day'] = data['transaction_date'].dt.day\n",
    "\n",
    "# Extracting day of the week (Monday=0, Sunday=6)\n",
    "data['day_of_week'] = data['transaction_date'].dt.dayofweek\n",
    "\n",
    "# Optionally, extract more features like quarter, day of the year, etc.\n",
    "data['quarter'] = data['transaction_date'].dt.quarter\n",
    "data['day_of_year'] = data['transaction_date'].dt.dayofyear\n",
    "\n",
    "# Preview the modified dataframe\n",
    "print(data.head())"
   ]
  },
  {
   "cell_type": "code",
   "execution_count": 15,
   "metadata": {
    "colab": {
     "base_uri": "https://localhost:8080/"
    },
    "id": "hbJ7VPAFri_8",
    "outputId": "77d4a23e-f651-41d9-ebbb-b137563ac6aa"
   },
   "outputs": [
    {
     "name": "stdout",
     "output_type": "stream",
     "text": [
      "      user_id    bill_id  line_item_amount  bill_discount transaction_date  \\\n",
      "0   519644808  741961800          559.6000            0.0       2022-04-20   \n",
      "2   504795522  692673877          699.5000            0.0       2022-01-27   \n",
      "3    12626591  768369011          519.6000            0.0       2022-10-09   \n",
      "10  496507098  779140853          559.6000            0.0       2022-11-10   \n",
      "12  518922122  740235900          937.1713            0.0       2022-07-04   \n",
      "13  265821333  741719450         1243.0383            0.0       2022-04-08   \n",
      "15  505086766  693993536         1384.2867            0.0       2022-02-02   \n",
      "16  519752413  742055389         2999.5000            0.0       2022-04-22   \n",
      "17  519068031  740843639         1063.0603            0.0       2022-07-06   \n",
      "19  357496939  747217849         1449.5000            0.0       2022-07-28   \n",
      "\n",
      "                                     description inventory_category  \\\n",
      "0          MBL ITA16BLT004 Regular Casual Tan 32          MENS BELT   \n",
      "2          MBL ITA16BLT004 Regular Casual Tan 34          MENS BELT   \n",
      "3   MBL ITA16BLT001 Regular Casual Dark Brown 32          MENS BELT   \n",
      "10         MBL ITS17BLT005 Regular Casual Tan 34          MENS BELT   \n",
      "12             BSW TBA17SWK607 Regular LS Navy L       BOYS SWEATER   \n",
      "13                MSH ITA17SHK234 Slim LS Navy S         MENS SHIRT   \n",
      "15                MSH ITA17SHK234 Slim LS Navy S         MENS SHIRT   \n",
      "16          MJA ITA17JKK007 Sportcoat LS Navy XL        MENS JACKET   \n",
      "17            MTR ITMTR00017 Kansas FF Cement 38       MENS TROUSER   \n",
      "19            MTR ITMTR00048 Brooklyn FF Navy 34       MENS TROUSER   \n",
      "\n",
      "        colour size zone_name  store_name  year  \\\n",
      "0          Tan   32     North  North_6023  2022   \n",
      "2          Tan   34      East   East_6510  2022   \n",
      "3   Dark Brown   32     South  South_6017  2022   \n",
      "10         Tan   34     South  South_6028  2022   \n",
      "12        Navy    L     South  South_6028  2022   \n",
      "13        Navy    S     South  South_6001  2022   \n",
      "15        Navy    S     South  South_7474  2022   \n",
      "16        Navy   XL     South  South_6028  2022   \n",
      "17      Cement   38     South  South_6005  2022   \n",
      "19        Navy   34      East   East_6510  2022   \n",
      "\n",
      "                                       desc_copy                 product  \\\n",
      "0          MBL ITA16BLT004 Regular Casual Tan 32               MENS BELT   \n",
      "2          MBL ITA16BLT004 Regular Casual Tan 34               MENS BELT   \n",
      "3   MBL ITA16BLT001 Regular Casual Dark Brown 32               MENS BELT   \n",
      "10         MBL ITS17BLT005 Regular Casual Tan 34               MENS BELT   \n",
      "12             BSW TBA17SWK607 Regular LS Navy L            BOYS SWEATER   \n",
      "13                MSH ITA17SHK234 Slim LS Navy S              MENS SHIRT   \n",
      "15                MSH ITA17SHK234 Slim LS Navy S              MENS SHIRT   \n",
      "16          MJA ITA17JKK007 Sportcoat LS Navy XL             MENS JACKET   \n",
      "17            MTR ITMTR00017 Kansas FF Cement 38  MENS TROUSER WITH BELT   \n",
      "19            MTR ITMTR00048 Brooklyn FF Navy 34  MENS TROUSER WITH BELT   \n",
      "\n",
      "         ic_copy  month  day  day_of_week  quarter  day_of_year  \n",
      "0      MENS BELT      4   20            2        2          110  \n",
      "2      MENS BELT      1   27            3        1           27  \n",
      "3      MENS BELT     10    9            6        4          282  \n",
      "10     MENS BELT     11   10            3        4          314  \n",
      "12  BOYS SWEATER      7    4            0        3          185  \n",
      "13    MENS SHIRT      4    8            4        2           98  \n",
      "15    MENS SHIRT      2    2            2        1           33  \n",
      "16   MENS JACKET      4   22            4        2          112  \n",
      "17  MENS TROUSER      7    6            2        3          187  \n",
      "19  MENS TROUSER      7   28            3        3          209  \n"
     ]
    }
   ],
   "source": [
    "print(data.head(10))"
   ]
  },
  {
   "cell_type": "code",
   "execution_count": 16,
   "metadata": {
    "colab": {
     "base_uri": "https://localhost:8080/",
     "height": 206
    },
    "id": "elU9xJ_TsaTD",
    "outputId": "89269cbd-1473-4fc1-9f72-5640a64f9c2d"
   },
   "outputs": [
    {
     "data": {
      "text/html": [
       "<div>\n",
       "<style scoped>\n",
       "    .dataframe tbody tr th:only-of-type {\n",
       "        vertical-align: middle;\n",
       "    }\n",
       "\n",
       "    .dataframe tbody tr th {\n",
       "        vertical-align: top;\n",
       "    }\n",
       "\n",
       "    .dataframe thead th {\n",
       "        text-align: right;\n",
       "    }\n",
       "</style>\n",
       "<table border=\"1\" class=\"dataframe\">\n",
       "  <thead>\n",
       "    <tr style=\"text-align: right;\">\n",
       "      <th></th>\n",
       "      <th>user_id</th>\n",
       "      <th>bill_id</th>\n",
       "      <th>line_item_amount</th>\n",
       "      <th>bill_discount</th>\n",
       "      <th>day</th>\n",
       "      <th>month</th>\n",
       "      <th>day_of_week</th>\n",
       "      <th>quarter</th>\n",
       "      <th>day_of_year</th>\n",
       "      <th>ic_copy</th>\n",
       "      <th>colour</th>\n",
       "      <th>size</th>\n",
       "      <th>zone_name</th>\n",
       "      <th>store_name</th>\n",
       "      <th>product</th>\n",
       "    </tr>\n",
       "  </thead>\n",
       "  <tbody>\n",
       "    <tr>\n",
       "      <th>0</th>\n",
       "      <td>519644808</td>\n",
       "      <td>741961800</td>\n",
       "      <td>559.6000</td>\n",
       "      <td>0.0</td>\n",
       "      <td>20</td>\n",
       "      <td>4</td>\n",
       "      <td>2</td>\n",
       "      <td>2</td>\n",
       "      <td>110</td>\n",
       "      <td>MENS BELT</td>\n",
       "      <td>Tan</td>\n",
       "      <td>32</td>\n",
       "      <td>North</td>\n",
       "      <td>North_6023</td>\n",
       "      <td>MENS BELT</td>\n",
       "    </tr>\n",
       "    <tr>\n",
       "      <th>2</th>\n",
       "      <td>504795522</td>\n",
       "      <td>692673877</td>\n",
       "      <td>699.5000</td>\n",
       "      <td>0.0</td>\n",
       "      <td>27</td>\n",
       "      <td>1</td>\n",
       "      <td>3</td>\n",
       "      <td>1</td>\n",
       "      <td>27</td>\n",
       "      <td>MENS BELT</td>\n",
       "      <td>Tan</td>\n",
       "      <td>34</td>\n",
       "      <td>East</td>\n",
       "      <td>East_6510</td>\n",
       "      <td>MENS BELT</td>\n",
       "    </tr>\n",
       "    <tr>\n",
       "      <th>3</th>\n",
       "      <td>12626591</td>\n",
       "      <td>768369011</td>\n",
       "      <td>519.6000</td>\n",
       "      <td>0.0</td>\n",
       "      <td>9</td>\n",
       "      <td>10</td>\n",
       "      <td>6</td>\n",
       "      <td>4</td>\n",
       "      <td>282</td>\n",
       "      <td>MENS BELT</td>\n",
       "      <td>Dark Brown</td>\n",
       "      <td>32</td>\n",
       "      <td>South</td>\n",
       "      <td>South_6017</td>\n",
       "      <td>MENS BELT</td>\n",
       "    </tr>\n",
       "    <tr>\n",
       "      <th>10</th>\n",
       "      <td>496507098</td>\n",
       "      <td>779140853</td>\n",
       "      <td>559.6000</td>\n",
       "      <td>0.0</td>\n",
       "      <td>10</td>\n",
       "      <td>11</td>\n",
       "      <td>3</td>\n",
       "      <td>4</td>\n",
       "      <td>314</td>\n",
       "      <td>MENS BELT</td>\n",
       "      <td>Tan</td>\n",
       "      <td>34</td>\n",
       "      <td>South</td>\n",
       "      <td>South_6028</td>\n",
       "      <td>MENS BELT</td>\n",
       "    </tr>\n",
       "    <tr>\n",
       "      <th>12</th>\n",
       "      <td>518922122</td>\n",
       "      <td>740235900</td>\n",
       "      <td>937.1713</td>\n",
       "      <td>0.0</td>\n",
       "      <td>4</td>\n",
       "      <td>7</td>\n",
       "      <td>0</td>\n",
       "      <td>3</td>\n",
       "      <td>185</td>\n",
       "      <td>BOYS SWEATER</td>\n",
       "      <td>Navy</td>\n",
       "      <td>L</td>\n",
       "      <td>South</td>\n",
       "      <td>South_6028</td>\n",
       "      <td>BOYS SWEATER</td>\n",
       "    </tr>\n",
       "  </tbody>\n",
       "</table>\n",
       "</div>"
      ],
      "text/plain": [
       "      user_id    bill_id  line_item_amount  bill_discount  day  month  \\\n",
       "0   519644808  741961800          559.6000            0.0   20      4   \n",
       "2   504795522  692673877          699.5000            0.0   27      1   \n",
       "3    12626591  768369011          519.6000            0.0    9     10   \n",
       "10  496507098  779140853          559.6000            0.0   10     11   \n",
       "12  518922122  740235900          937.1713            0.0    4      7   \n",
       "\n",
       "    day_of_week  quarter  day_of_year       ic_copy      colour size  \\\n",
       "0             2        2          110     MENS BELT         Tan   32   \n",
       "2             3        1           27     MENS BELT         Tan   34   \n",
       "3             6        4          282     MENS BELT  Dark Brown   32   \n",
       "10            3        4          314     MENS BELT         Tan   34   \n",
       "12            0        3          185  BOYS SWEATER        Navy    L   \n",
       "\n",
       "   zone_name  store_name       product  \n",
       "0      North  North_6023     MENS BELT  \n",
       "2       East   East_6510     MENS BELT  \n",
       "3      South  South_6017     MENS BELT  \n",
       "10     South  South_6028     MENS BELT  \n",
       "12     South  South_6028  BOYS SWEATER  "
      ]
     },
     "execution_count": 16,
     "metadata": {},
     "output_type": "execute_result"
    }
   ],
   "source": [
    "# List of columns to keep\n",
    "columns_to_keep = [\n",
    "    'user_id',\n",
    "    'bill_id',\n",
    "    'line_item_amount',\n",
    "    'bill_discount',\n",
    "    'day',\n",
    "    'month',\n",
    "    'day_of_week',       # Assuming this is the correct name for 'day of the week'\n",
    "    'quarter',\n",
    "    'day_of_year',\n",
    "    'ic_copy',\n",
    "    'colour',            # The image shows 'colour' instead of 'color'\n",
    "    'size',\n",
    "    'zone_name',\n",
    "    'store_name',\n",
    "    'product'\n",
    "]\n",
    "\n",
    "# Keep only the specified columns in the DataFrame\n",
    "data = data[columns_to_keep]\n",
    "\n",
    "# Assuming 'transaction_date' is to be renamed to 'Date' and 'colour' to 'color'\n",
    "#data.rename(columns={'transaction_date': 'Date', 'colour': 'color'}, inplace=True)\n",
    "\n",
    "# Display the first few rows of the modified DataFrame to ensure it looks correct\n",
    "data.head()"
   ]
  },
  {
   "cell_type": "code",
   "execution_count": 17,
   "metadata": {
    "colab": {
     "base_uri": "https://localhost:8080/"
    },
    "id": "vpFLKp_ztZWS",
    "outputId": "f472c9e5-2a17-4a71-c869-6972c5a67f82"
   },
   "outputs": [
    {
     "name": "stdout",
     "output_type": "stream",
     "text": [
      "      user_id    bill_id  line_item_amount  bill_discount  day  month  \\\n",
      "0   519644808  741961800          559.6000            0.0   20      4   \n",
      "2   504795522  692673877          699.5000            0.0   27      1   \n",
      "3    12626591  768369011          519.6000            0.0    9     10   \n",
      "10  496507098  779140853          559.6000            0.0   10     11   \n",
      "12  518922122  740235900          937.1713            0.0    4      7   \n",
      "13  265821333  741719450         1243.0383            0.0    8      4   \n",
      "15  505086766  693993536         1384.2867            0.0    2      2   \n",
      "16  519752413  742055389         2999.5000            0.0   22      4   \n",
      "17  519068031  740843639         1063.0603            0.0    6      7   \n",
      "19  357496939  747217849         1449.5000            0.0   28      7   \n",
      "\n",
      "    day_of_week  quarter  day_of_year       ic_copy      colour size  \\\n",
      "0             2        2          110     MENS BELT         Tan   32   \n",
      "2             3        1           27     MENS BELT         Tan   34   \n",
      "3             6        4          282     MENS BELT  Dark Brown   32   \n",
      "10            3        4          314     MENS BELT         Tan   34   \n",
      "12            0        3          185  BOYS SWEATER        Navy    L   \n",
      "13            4        2           98    MENS SHIRT        Navy    S   \n",
      "15            2        1           33    MENS SHIRT        Navy    S   \n",
      "16            4        2          112   MENS JACKET        Navy   XL   \n",
      "17            2        3          187  MENS TROUSER      Cement   38   \n",
      "19            3        3          209  MENS TROUSER        Navy   34   \n",
      "\n",
      "   zone_name  store_name                 product  \n",
      "0      North  North_6023               MENS BELT  \n",
      "2       East   East_6510               MENS BELT  \n",
      "3      South  South_6017               MENS BELT  \n",
      "10     South  South_6028               MENS BELT  \n",
      "12     South  South_6028            BOYS SWEATER  \n",
      "13     South  South_6001              MENS SHIRT  \n",
      "15     South  South_7474              MENS SHIRT  \n",
      "16     South  South_6028             MENS JACKET  \n",
      "17     South  South_6005  MENS TROUSER WITH BELT  \n",
      "19      East   East_6510  MENS TROUSER WITH BELT  \n"
     ]
    }
   ],
   "source": [
    "print(data.head(10))"
   ]
  },
  {
   "cell_type": "code",
   "execution_count": 18,
   "metadata": {
    "colab": {
     "base_uri": "https://localhost:8080/"
    },
    "id": "J4BeConP3aqi",
    "outputId": "e2a0342c-ac50-44f1-9bc3-07486976e730"
   },
   "outputs": [
    {
     "data": {
      "text/plain": [
       "{'unknown_size': 2248647, 'unknown_colour': 406012, 'unknown_ic_copy': 530987}"
      ]
     },
     "execution_count": 18,
     "metadata": {},
     "output_type": "execute_result"
    }
   ],
   "source": [
    "# Count the number of 'Unknown' in the size, colour and ic_copy column\n",
    "unknown_counts = {\n",
    "    'unknown_size': (data['size'] == 'Unknown').sum(),\n",
    "    'unknown_colour': (data['colour'] == 'Unknown').sum(),\n",
    "    'unknown_ic_copy': (data['ic_copy'] == 'Unknown').sum()\n",
    "}\n",
    "\n",
    "unknown_counts"
   ]
  },
  {
   "cell_type": "code",
   "execution_count": 19,
   "metadata": {
    "id": "ta_UKmIcUDlY"
   },
   "outputs": [],
   "source": [
    "data.replace('Unknown', np.nan, inplace=True)\n",
    "data.dropna(subset=['size', 'colour', 'ic_copy'], inplace=True)"
   ]
  },
  {
   "cell_type": "code",
   "execution_count": 20,
   "metadata": {
    "colab": {
     "base_uri": "https://localhost:8080/"
    },
    "id": "2hyu3iuUVZN1",
    "outputId": "22026d34-f25d-4fda-b84a-e0f9c2c946d7"
   },
   "outputs": [
    {
     "data": {
      "text/plain": [
       "{'unknown_size': 0, 'unknown_colour': 0, 'unknown_ic_copy': 0}"
      ]
     },
     "execution_count": 20,
     "metadata": {},
     "output_type": "execute_result"
    }
   ],
   "source": [
    "# Count the number of 'Unknown' in the size, colour and ic_copy column\n",
    "unknown_counts = {\n",
    "    'unknown_size': (data['size'] == 'Unknown').sum(),\n",
    "    'unknown_colour': (data['colour'] == 'Unknown').sum(),\n",
    "    'unknown_ic_copy': (data['ic_copy'] == 'Unknown').sum()\n",
    "}\n",
    "\n",
    "unknown_counts"
   ]
  },
  {
   "cell_type": "code",
   "execution_count": 21,
   "metadata": {
    "colab": {
     "base_uri": "https://localhost:8080/"
    },
    "id": "NujnpbqHYgMS",
    "outputId": "9c7aee09-bc60-41dd-9243-ddf8ed0a5e32"
   },
   "outputs": [
    {
     "name": "stdout",
     "output_type": "stream",
     "text": [
      "Initial Missing Values:\n",
      " user_id                  0\n",
      "bill_id                  0\n",
      "line_item_amount         0\n",
      "bill_discount            0\n",
      "day                      0\n",
      "month                    0\n",
      "day_of_week              0\n",
      "quarter                  0\n",
      "day_of_year              0\n",
      "ic_copy                  0\n",
      "colour                   0\n",
      "size                     0\n",
      "zone_name                0\n",
      "store_name               0\n",
      "product             486206\n",
      "dtype: int64\n"
     ]
    }
   ],
   "source": [
    "print(\"Initial Missing Values:\\n\", data.isnull().sum())"
   ]
  },
  {
   "cell_type": "code",
   "execution_count": 22,
   "metadata": {
    "id": "sZu-ZzEgY0kZ"
   },
   "outputs": [],
   "source": [
    "data.dropna(subset=['product'], inplace=True)"
   ]
  },
  {
   "cell_type": "code",
   "execution_count": 23,
   "metadata": {
    "colab": {
     "base_uri": "https://localhost:8080/"
    },
    "id": "dOXuB6pAY-Qt",
    "outputId": "d5e5b743-cae9-4a70-bb5b-4cd13ce312f9"
   },
   "outputs": [
    {
     "name": "stdout",
     "output_type": "stream",
     "text": [
      "Initial Missing Values:\n",
      " user_id             0\n",
      "bill_id             0\n",
      "line_item_amount    0\n",
      "bill_discount       0\n",
      "day                 0\n",
      "month               0\n",
      "day_of_week         0\n",
      "quarter             0\n",
      "day_of_year         0\n",
      "ic_copy             0\n",
      "colour              0\n",
      "size                0\n",
      "zone_name           0\n",
      "store_name          0\n",
      "product             0\n",
      "dtype: int64\n"
     ]
    }
   ],
   "source": [
    "print(\"Initial Missing Values:\\n\", data.isnull().sum())"
   ]
  },
  {
   "cell_type": "markdown",
   "metadata": {
    "id": "6VsZVsX5fZgf"
   },
   "source": [
    "# Data Visualization - grouped customer data"
   ]
  },
  {
   "cell_type": "code",
   "execution_count": 24,
   "metadata": {
    "colab": {
     "base_uri": "https://localhost:8080/",
     "height": 573
    },
    "id": "MbN3ocBNEuwo",
    "outputId": "ac4474ad-31d2-4aba-f632-9892fbd3c22c"
   },
   "outputs": [
    {
     "data": {
      "image/png": "[encoded data removed]",
      "text/plain": [
       "<Figure size 1000x600 with 1 Axes>"
      ]
     },
     "metadata": {},
     "output_type": "display_data"
    }
   ],
   "source": [
    "# Replace 'total_purchase' and 'transaction_count' with the actual column names for total purchase amount and transaction count\n",
    "# Aggregate data at the customer level\n",
    "customer_data = data.groupby('user_id').agg(\n",
    "    total_purchase=('line_item_amount', 'sum'),  # Replace with your column name for the purchase amount\n",
    "    transaction_count=('bill_id', 'nunique')     # Assuming 'bill_id' is a unique identifier for transactions\n",
    ").reset_index()\n",
    "\n",
    "# Plotting the scatter plot\n",
    "plt.figure(figsize=(10, 6))\n",
    "plt.scatter(customer_data['transaction_count'], customer_data['total_purchase'], alpha=0.5)\n",
    "\n",
    "# Optionally, to create a bubble chart where the size of each bubble corresponds to the total purchase amount\n",
    "# plt.scatter(customer_data['transaction_count'], customer_data['total_purchase'],\n",
    "             #s=customer_data['total_purchase'] / 0.2, alpha=0.5)  # Adjust the denominator to scale bubble sizes appropriately\n",
    "\n",
    "plt.title('Customer Segmentation based on Total Purchase Amount and Number of Transactions')\n",
    "plt.xlabel('Number of Transactions')\n",
    "plt.ylabel('Total Purchase Amount')\n",
    "plt.grid(True)\n",
    "plt.show()"
   ]
  },
  {
   "cell_type": "markdown",
   "metadata": {
    "id": "D5k_G2Hzfgpx"
   },
   "source": [
    "# For linear regression - starting with grouped data"
   ]
  },
  {
   "cell_type": "code",
   "execution_count": 25,
   "metadata": {
    "colab": {
     "base_uri": "https://localhost:8080/",
     "height": 424
    },
    "id": "kE0Txpxs7ZEq",
    "outputId": "041476d1-493f-437e-887a-fa3259ada3b7"
   },
   "outputs": [
    {
     "data": {
      "text/html": [
       "<div>\n",
       "<style scoped>\n",
       "    .dataframe tbody tr th:only-of-type {\n",
       "        vertical-align: middle;\n",
       "    }\n",
       "\n",
       "    .dataframe tbody tr th {\n",
       "        vertical-align: top;\n",
       "    }\n",
       "\n",
       "    .dataframe thead th {\n",
       "        text-align: right;\n",
       "    }\n",
       "</style>\n",
       "<table border=\"1\" class=\"dataframe\">\n",
       "  <thead>\n",
       "    <tr style=\"text-align: right;\">\n",
       "      <th></th>\n",
       "      <th>product</th>\n",
       "      <th>colour</th>\n",
       "      <th>month</th>\n",
       "      <th>day_of_week</th>\n",
       "      <th>zone_name</th>\n",
       "      <th>line_item_amount</th>\n",
       "    </tr>\n",
       "  </thead>\n",
       "  <tbody>\n",
       "    <tr>\n",
       "      <th>0</th>\n",
       "      <td>B</td>\n",
       "      <td>Lt Grey M.</td>\n",
       "      <td>10</td>\n",
       "      <td>0</td>\n",
       "      <td>South</td>\n",
       "      <td>3482.1372</td>\n",
       "    </tr>\n",
       "    <tr>\n",
       "      <th>1</th>\n",
       "      <td>B</td>\n",
       "      <td>Lt Grey M.</td>\n",
       "      <td>10</td>\n",
       "      <td>0</td>\n",
       "      <td>West</td>\n",
       "      <td>799.0000</td>\n",
       "    </tr>\n",
       "    <tr>\n",
       "      <th>2</th>\n",
       "      <td>B</td>\n",
       "      <td>Lt Grey M.</td>\n",
       "      <td>10</td>\n",
       "      <td>1</td>\n",
       "      <td>South</td>\n",
       "      <td>7021.7110</td>\n",
       "    </tr>\n",
       "    <tr>\n",
       "      <th>3</th>\n",
       "      <td>B</td>\n",
       "      <td>Lt Grey M.</td>\n",
       "      <td>10</td>\n",
       "      <td>2</td>\n",
       "      <td>South</td>\n",
       "      <td>4839.2278</td>\n",
       "    </tr>\n",
       "    <tr>\n",
       "      <th>4</th>\n",
       "      <td>B</td>\n",
       "      <td>Lt Grey M.</td>\n",
       "      <td>10</td>\n",
       "      <td>3</td>\n",
       "      <td>East</td>\n",
       "      <td>799.0000</td>\n",
       "    </tr>\n",
       "    <tr>\n",
       "      <th>...</th>\n",
       "      <td>...</td>\n",
       "      <td>...</td>\n",
       "      <td>...</td>\n",
       "      <td>...</td>\n",
       "      <td>...</td>\n",
       "      <td>...</td>\n",
       "    </tr>\n",
       "    <tr>\n",
       "      <th>177331</th>\n",
       "      <td>WLT</td>\n",
       "      <td>Wine</td>\n",
       "      <td>3</td>\n",
       "      <td>0</td>\n",
       "      <td>North</td>\n",
       "      <td>1.0000</td>\n",
       "    </tr>\n",
       "    <tr>\n",
       "      <th>177332</th>\n",
       "      <td>WLT</td>\n",
       "      <td>Wine</td>\n",
       "      <td>3</td>\n",
       "      <td>2</td>\n",
       "      <td>North</td>\n",
       "      <td>2.0323</td>\n",
       "    </tr>\n",
       "    <tr>\n",
       "      <th>177333</th>\n",
       "      <td>WLT</td>\n",
       "      <td>Wine</td>\n",
       "      <td>3</td>\n",
       "      <td>3</td>\n",
       "      <td>East</td>\n",
       "      <td>1599.0000</td>\n",
       "    </tr>\n",
       "    <tr>\n",
       "      <th>177334</th>\n",
       "      <td>WLT</td>\n",
       "      <td>Wine</td>\n",
       "      <td>4</td>\n",
       "      <td>0</td>\n",
       "      <td>North</td>\n",
       "      <td>1.0000</td>\n",
       "    </tr>\n",
       "    <tr>\n",
       "      <th>177335</th>\n",
       "      <td>WLT</td>\n",
       "      <td>Wine</td>\n",
       "      <td>8</td>\n",
       "      <td>5</td>\n",
       "      <td>North</td>\n",
       "      <td>1599.0000</td>\n",
       "    </tr>\n",
       "  </tbody>\n",
       "</table>\n",
       "<p>177336 rows × 6 columns</p>\n",
       "</div>"
      ],
      "text/plain": [
       "       product      colour  month  day_of_week zone_name  line_item_amount\n",
       "0            B  Lt Grey M.     10            0     South         3482.1372\n",
       "1            B  Lt Grey M.     10            0      West          799.0000\n",
       "2            B  Lt Grey M.     10            1     South         7021.7110\n",
       "3            B  Lt Grey M.     10            2     South         4839.2278\n",
       "4            B  Lt Grey M.     10            3      East          799.0000\n",
       "...        ...         ...    ...          ...       ...               ...\n",
       "177331     WLT        Wine      3            0     North            1.0000\n",
       "177332     WLT        Wine      3            2     North            2.0323\n",
       "177333     WLT        Wine      3            3      East         1599.0000\n",
       "177334     WLT        Wine      4            0     North            1.0000\n",
       "177335     WLT        Wine      8            5     North         1599.0000\n",
       "\n",
       "[177336 rows x 6 columns]"
      ]
     },
     "execution_count": 25,
     "metadata": {},
     "output_type": "execute_result"
    }
   ],
   "source": [
    "df = pd.DataFrame(data)\n",
    "grouped_data = df.groupby(['product', 'colour', 'month', 'day_of_week', 'zone_name'])['line_item_amount'].sum().reset_index()\n",
    "grouped_data"
   ]
  },
  {
   "cell_type": "code",
   "execution_count": 26,
   "metadata": {
    "colab": {
     "base_uri": "https://localhost:8080/",
     "height": 701
    },
    "id": "qjEtve1WKqgK",
    "outputId": "106495c0-94c0-4fc5-bfa2-d828f6f19914"
   },
   "outputs": [
    {
     "data": {
      "image/png": "[encoded data removed]",
      "text/plain": [
       "<Figure size 1200x700 with 1 Axes>"
      ]
     },
     "metadata": {},
     "output_type": "display_data"
    }
   ],
   "source": [
    "df1 = pd.DataFrame(data)\n",
    "\n",
    "# Group by 'month' and 'zone_name' and sum the 'line_item_amount' for each group\n",
    "monthly_sales = df1.groupby(['month', 'zone_name'])['line_item_amount'].sum().unstack(fill_value=0)\n",
    "\n",
    "# Plotting the monthly sales for each zone\n",
    "monthly_sales.plot(kind='bar', figsize=(12, 7))\n",
    "\n",
    "plt.title('Monthly Sales for Each Zone')\n",
    "plt.xlabel('Month')\n",
    "plt.ylabel('Sales Amount')\n",
    "plt.xticks(rotation=0)  # Keep the month labels horizontal\n",
    "plt.legend(title='Zone')\n",
    "plt.tight_layout()\n",
    "plt.show()"
   ]
  },
  {
   "cell_type": "markdown",
   "metadata": {},
   "source": [
    "# Encoding data for Linear Regression"
   ]
  },
  {
   "cell_type": "code",
   "execution_count": 27,
   "metadata": {
    "colab": {
     "base_uri": "https://localhost:8080/"
    },
    "id": "o8-Uek5PIpEM",
    "outputId": "15956fac-6d41-4521-fcfc-1e7934b5e87b"
   },
   "outputs": [
    {
     "name": "stdout",
     "output_type": "stream",
     "text": [
      "   product  colour  month  day_of_week  zone_name  line_item_amount\n",
      "0        0     222     10            0          4         3482.1372\n",
      "1        0     222     10            0          5          799.0000\n",
      "2        0     222     10            1          4         7021.7110\n",
      "3        0     222     10            2          4         4839.2278\n",
      "4        0     222     10            3          1          799.0000\n",
      "177336\n"
     ]
    }
   ],
   "source": [
    "# Initialize LabelEncoder\n",
    "label_encoder = LabelEncoder()\n",
    "\n",
    "encoded_data = pd.DataFrame(grouped_data)\n",
    "\n",
    "# Columns to be label encoded\n",
    "categorical_columns = ['product', 'colour', 'zone_name']\n",
    "\n",
    "# Apply LabelEncoder to each categorical column\n",
    "for col in categorical_columns:\n",
    "    # Fill NaN with a placeholder string '__MISSING__'\n",
    "    # data[col] = data[col].fillna('__MISSING__')\n",
    "    # Transform the categories to labels\n",
    "    encoded_data[col] = label_encoder.fit_transform(encoded_data[col])\n",
    "\n",
    "# Check the transformation results\n",
    "print(encoded_data.head())\n",
    "print(len(encoded_data))"
   ]
  },
  {
   "cell_type": "markdown",
   "metadata": {},
   "source": [
    "# Correlation Matrix"
   ]
  },
  {
   "cell_type": "code",
   "execution_count": 28,
   "metadata": {
    "colab": {
     "base_uri": "https://localhost:8080/",
     "height": 704
    },
    "id": "U1EEX7hgHz-4",
    "outputId": "df7792cc-092d-483c-a373-100bde828f69"
   },
   "outputs": [
    {
     "data": {
      "image/png": "[encoded data removed]",
      "text/plain": [
       "<Figure size 1000x800 with 2 Axes>"
      ]
     },
     "metadata": {},
     "output_type": "display_data"
    }
   ],
   "source": [
    "numerical_data = encoded_data[['line_item_amount', 'product', 'colour', 'month', 'zone_name', 'day_of_week']]\n",
    "\n",
    "# Calculating the correlation matrix\n",
    "correlation_matrix = numerical_data.corr()\n",
    "\n",
    "# Visualizing the correlation matrix\n",
    "plt.figure(figsize=(10, 8))\n",
    "sns.heatmap(correlation_matrix, annot=True, fmt='.2f', cmap='coolwarm', square=True)\n",
    "plt.title('Correlation Matrix of Numerical Variables')\n",
    "plt.show()"
   ]
  },
  {
   "cell_type": "code",
   "execution_count": 29,
   "metadata": {
    "colab": {
     "base_uri": "https://localhost:8080/"
    },
    "id": "dDclpjsrOYvQ",
    "outputId": "77932c61-5f42-4ab9-9bb3-da200eacff3d"
   },
   "outputs": [
    {
     "name": "stdout",
     "output_type": "stream",
     "text": [
      "      user_id    bill_id  line_item_amount  bill_discount  day  month  \\\n",
      "0   519644808  741961800          559.6000            0.0   20      4   \n",
      "2   504795522  692673877          699.5000            0.0   27      1   \n",
      "3    12626591  768369011          519.6000            0.0    9     10   \n",
      "10  496507098  779140853          559.6000            0.0   10     11   \n",
      "12  518922122  740235900          937.1713            0.0    4      7   \n",
      "\n",
      "    day_of_week  quarter  day_of_year       ic_copy      colour size  \\\n",
      "0             2        2          110     MENS BELT         Tan   32   \n",
      "2             3        1           27     MENS BELT         Tan   34   \n",
      "3             6        4          282     MENS BELT  Dark Brown   32   \n",
      "10            3        4          314     MENS BELT         Tan   34   \n",
      "12            0        3          185  BOYS SWEATER        Navy    L   \n",
      "\n",
      "   zone_name  store_name       product  \n",
      "0      North  North_6023     MENS BELT  \n",
      "2       East   East_6510     MENS BELT  \n",
      "3      South  South_6017     MENS BELT  \n",
      "10     South  South_6028     MENS BELT  \n",
      "12     South  South_6028  BOYS SWEATER  \n"
     ]
    }
   ],
   "source": [
    "print(data.head())"
   ]
  },
  {
   "cell_type": "code",
   "execution_count": 30,
   "metadata": {
    "colab": {
     "base_uri": "https://localhost:8080/",
     "height": 1000
    },
    "id": "RVx--dZ3Ocda",
    "outputId": "48b962f0-1ca2-4c40-8977-fa8b522fdde7"
   },
   "outputs": [
    {
     "data": {
      "image/png": "[encoded data removed]",
      "text/plain": [
       "<Figure size 1000x500 with 1 Axes>"
      ]
     },
     "metadata": {},
     "output_type": "display_data"
    },
    {
     "data": {
      "image/png": "[encoded data removed]",
      "text/plain": [
       "<Figure size 1000x500 with 1 Axes>"
      ]
     },
     "metadata": {},
     "output_type": "display_data"
    },
    {
     "data": {
      "image/png": "[encoded data removed]",
      "text/plain": [
       "<Figure size 1000x500 with 1 Axes>"
      ]
     },
     "metadata": {},
     "output_type": "display_data"
    },
    {
     "data": {
      "image/png": "[encoded data removed]",
      "text/plain": [
       "<Figure size 1000x500 with 1 Axes>"
      ]
     },
     "metadata": {},
     "output_type": "display_data"
    }
   ],
   "source": [
    "df = pd.DataFrame(data)\n",
    "\n",
    "# Visualization 1: Purchases made each month\n",
    "purchases_per_month = df['month'].value_counts().sort_index()\n",
    "plt.figure(figsize=(10, 5))\n",
    "purchases_per_month.plot(kind='bar')\n",
    "plt.title('Total Purchases Made Each Month')\n",
    "plt.xlabel('Month')\n",
    "plt.ylabel('Number of Purchases')\n",
    "plt.xticks(rotation=0)\n",
    "plt.show()\n",
    "\n",
    "# Visualization 2: Average sales on each month\n",
    "average_sales_per_month = df.groupby('month')['line_item_amount'].mean()\n",
    "plt.figure(figsize=(10, 5))\n",
    "average_sales_per_month.plot(kind='bar', color='orange')\n",
    "plt.title('Average Sales Amount Each Month')\n",
    "plt.xlabel('Month')\n",
    "plt.ylabel('Average Sales Amount')\n",
    "plt.xticks(rotation=0)\n",
    "plt.show()\n",
    "\n",
    "# Visualization 3: Purchases done over the days of the week\n",
    "purchases_per_day_of_week = df['day_of_week'].value_counts().sort_index()\n",
    "plt.figure(figsize=(10, 5))\n",
    "purchases_per_day_of_week.plot(kind='bar', color='green')\n",
    "plt.title('Total Purchases Over the Days of the Week')\n",
    "plt.xlabel('Day of the Week')\n",
    "plt.ylabel('Number of Purchases')\n",
    "plt.xticks(rotation=0)\n",
    "plt.show()\n",
    "\n",
    "# Visualization 4: Average sales over the days of the week\n",
    "average_sales_per_day_of_week = df.groupby('day_of_week')['line_item_amount'].mean()\n",
    "plt.figure(figsize=(10, 5))\n",
    "average_sales_per_day_of_week.plot(kind='bar', color='red')\n",
    "plt.title('Average Sales Over the Days of the Week')\n",
    "plt.xlabel('Day of the Week')\n",
    "plt.ylabel('Average Sales Amount')\n",
    "plt.xticks(rotation=0)\n",
    "plt.show()"
   ]
  },
  {
   "cell_type": "markdown",
   "metadata": {
    "id": "I37LbjmxFOEi"
   },
   "source": [
    "Customer purchases"
   ]
  },
  {
   "cell_type": "markdown",
   "metadata": {},
   "source": [
    "# Linear Regression"
   ]
  },
  {
   "cell_type": "code",
   "execution_count": 31,
   "metadata": {
    "colab": {
     "base_uri": "https://localhost:8080/"
    },
    "id": "ygGfGAZfwNgD",
    "outputId": "5c62495e-54af-4a4d-bed7-8d5095acb31f"
   },
   "outputs": [],
   "source": [
    "from sklearn.model_selection import train_test_split\n",
    "from sklearn.linear_model import LinearRegression\n",
    "from sklearn.metrics import mean_squared_error, r2_score\n",
    "from sklearn.preprocessing import PolynomialFeatures\n",
    "\n",
    "# Prepare your data (assuming 'line_item_amount' is the target)\n",
    "X = encoded_data.drop(columns=['line_item_amount']) # Features\n",
    "y = encoded_data['line_item_amount']  # Target\n",
    "\n",
    "X_train, X_test, y_train, y_test = train_test_split(X, y, test_size=0.2, random_state=42)\n"
   ]
  },
  {
   "cell_type": "code",
   "execution_count": 32,
   "metadata": {},
   "outputs": [
    {
     "data": {
      "text/plain": [
       "(2.3448192519191067, -0.056848387699349745)"
      ]
     },
     "execution_count": 32,
     "metadata": {},
     "output_type": "execute_result"
    }
   ],
   "source": [
    "poly = PolynomialFeatures(degree=3)  \n",
    "X_train_poly = poly.fit_transform(X_train)\n",
    "X_test_poly = poly.transform(X_test)\n",
    "\n",
    "\n",
    "scaler = StandardScaler()\n",
    "X_train_scaled = scaler.fit_transform(X_train_poly)\n",
    "X_test_scaled = scaler.transform(X_test_poly)\n",
    "\n",
    "y_train_log = np.log1p(y_train)# Logarithmic transformation\n",
    "y_test_log = np.log1p(y_test) \n",
    "\n",
    "\n",
    "model = LinearRegression()\n",
    "model.fit(X_train_scaled, y_train_log)\n",
    "\n",
    "\n",
    "# Make predictions\n",
    "y_pred = model.predict(X_test_scaled)\n",
    "\n",
    "# Calculate metrics\n",
    "mse = mean_squared_error(y_test_log, y_pred)\n",
    "r2 = r2_score(y_test, y_pred)\n",
    "\n",
    "mse, r2"
   ]
  },
  {
   "cell_type": "markdown",
   "metadata": {},
   "source": [
    "# Grouping Data for Artificial Neural Network"
   ]
  },
  {
   "cell_type": "markdown",
   "metadata": {
    "id": "zWn_tVICbIjT"
   },
   "source": [
    "For applying the ANN - Predict which categories or items a\n",
    "customer will likely purchase.\n",
    "\n",
    "Target is product - top 10 products that you would most likely purchase"
   ]
  },
  {
   "cell_type": "code",
   "execution_count": 33,
   "metadata": {
    "colab": {
     "base_uri": "https://localhost:8080/",
     "height": 206
    },
    "id": "ivuMLhv2brTV",
    "outputId": "c65abfbd-64c9-4b30-b11b-d787567a8885"
   },
   "outputs": [
    {
     "data": {
      "text/html": [
       "<div>\n",
       "<style scoped>\n",
       "    .dataframe tbody tr th:only-of-type {\n",
       "        vertical-align: middle;\n",
       "    }\n",
       "\n",
       "    .dataframe tbody tr th {\n",
       "        vertical-align: top;\n",
       "    }\n",
       "\n",
       "    .dataframe thead th {\n",
       "        text-align: right;\n",
       "    }\n",
       "</style>\n",
       "<table border=\"1\" class=\"dataframe\">\n",
       "  <thead>\n",
       "    <tr style=\"text-align: right;\">\n",
       "      <th></th>\n",
       "      <th>user_id</th>\n",
       "      <th>bill_id</th>\n",
       "      <th>line_item_amount</th>\n",
       "      <th>bill_discount</th>\n",
       "      <th>day</th>\n",
       "      <th>month</th>\n",
       "      <th>day_of_week</th>\n",
       "      <th>quarter</th>\n",
       "      <th>day_of_year</th>\n",
       "      <th>ic_copy</th>\n",
       "      <th>colour</th>\n",
       "      <th>size</th>\n",
       "      <th>zone_name</th>\n",
       "      <th>store_name</th>\n",
       "      <th>product</th>\n",
       "    </tr>\n",
       "  </thead>\n",
       "  <tbody>\n",
       "    <tr>\n",
       "      <th>0</th>\n",
       "      <td>519644808</td>\n",
       "      <td>741961800</td>\n",
       "      <td>559.6000</td>\n",
       "      <td>0.0</td>\n",
       "      <td>20</td>\n",
       "      <td>4</td>\n",
       "      <td>2</td>\n",
       "      <td>2</td>\n",
       "      <td>110</td>\n",
       "      <td>MENS BELT</td>\n",
       "      <td>Tan</td>\n",
       "      <td>32</td>\n",
       "      <td>North</td>\n",
       "      <td>North_6023</td>\n",
       "      <td>MENS BELT</td>\n",
       "    </tr>\n",
       "    <tr>\n",
       "      <th>2</th>\n",
       "      <td>504795522</td>\n",
       "      <td>692673877</td>\n",
       "      <td>699.5000</td>\n",
       "      <td>0.0</td>\n",
       "      <td>27</td>\n",
       "      <td>1</td>\n",
       "      <td>3</td>\n",
       "      <td>1</td>\n",
       "      <td>27</td>\n",
       "      <td>MENS BELT</td>\n",
       "      <td>Tan</td>\n",
       "      <td>34</td>\n",
       "      <td>East</td>\n",
       "      <td>East_6510</td>\n",
       "      <td>MENS BELT</td>\n",
       "    </tr>\n",
       "    <tr>\n",
       "      <th>3</th>\n",
       "      <td>12626591</td>\n",
       "      <td>768369011</td>\n",
       "      <td>519.6000</td>\n",
       "      <td>0.0</td>\n",
       "      <td>9</td>\n",
       "      <td>10</td>\n",
       "      <td>6</td>\n",
       "      <td>4</td>\n",
       "      <td>282</td>\n",
       "      <td>MENS BELT</td>\n",
       "      <td>Dark Brown</td>\n",
       "      <td>32</td>\n",
       "      <td>South</td>\n",
       "      <td>South_6017</td>\n",
       "      <td>MENS BELT</td>\n",
       "    </tr>\n",
       "    <tr>\n",
       "      <th>10</th>\n",
       "      <td>496507098</td>\n",
       "      <td>779140853</td>\n",
       "      <td>559.6000</td>\n",
       "      <td>0.0</td>\n",
       "      <td>10</td>\n",
       "      <td>11</td>\n",
       "      <td>3</td>\n",
       "      <td>4</td>\n",
       "      <td>314</td>\n",
       "      <td>MENS BELT</td>\n",
       "      <td>Tan</td>\n",
       "      <td>34</td>\n",
       "      <td>South</td>\n",
       "      <td>South_6028</td>\n",
       "      <td>MENS BELT</td>\n",
       "    </tr>\n",
       "    <tr>\n",
       "      <th>12</th>\n",
       "      <td>518922122</td>\n",
       "      <td>740235900</td>\n",
       "      <td>937.1713</td>\n",
       "      <td>0.0</td>\n",
       "      <td>4</td>\n",
       "      <td>7</td>\n",
       "      <td>0</td>\n",
       "      <td>3</td>\n",
       "      <td>185</td>\n",
       "      <td>BOYS SWEATER</td>\n",
       "      <td>Navy</td>\n",
       "      <td>L</td>\n",
       "      <td>South</td>\n",
       "      <td>South_6028</td>\n",
       "      <td>BOYS SWEATER</td>\n",
       "    </tr>\n",
       "  </tbody>\n",
       "</table>\n",
       "</div>"
      ],
      "text/plain": [
       "      user_id    bill_id  line_item_amount  bill_discount  day  month  \\\n",
       "0   519644808  741961800          559.6000            0.0   20      4   \n",
       "2   504795522  692673877          699.5000            0.0   27      1   \n",
       "3    12626591  768369011          519.6000            0.0    9     10   \n",
       "10  496507098  779140853          559.6000            0.0   10     11   \n",
       "12  518922122  740235900          937.1713            0.0    4      7   \n",
       "\n",
       "    day_of_week  quarter  day_of_year       ic_copy      colour size  \\\n",
       "0             2        2          110     MENS BELT         Tan   32   \n",
       "2             3        1           27     MENS BELT         Tan   34   \n",
       "3             6        4          282     MENS BELT  Dark Brown   32   \n",
       "10            3        4          314     MENS BELT         Tan   34   \n",
       "12            0        3          185  BOYS SWEATER        Navy    L   \n",
       "\n",
       "   zone_name  store_name       product  \n",
       "0      North  North_6023     MENS BELT  \n",
       "2       East   East_6510     MENS BELT  \n",
       "3      South  South_6017     MENS BELT  \n",
       "10     South  South_6028     MENS BELT  \n",
       "12     South  South_6028  BOYS SWEATER  "
      ]
     },
     "execution_count": 33,
     "metadata": {},
     "output_type": "execute_result"
    }
   ],
   "source": [
    "data.head()"
   ]
  },
  {
   "cell_type": "code",
   "execution_count": 34,
   "metadata": {
    "colab": {
     "base_uri": "https://localhost:8080/",
     "height": 424
    },
    "id": "yRNeZwrcxkza",
    "outputId": "c0f1026d-6075-4f99-946b-48cdd426d906"
   },
   "outputs": [
    {
     "data": {
      "text/html": [
       "<div>\n",
       "<style scoped>\n",
       "    .dataframe tbody tr th:only-of-type {\n",
       "        vertical-align: middle;\n",
       "    }\n",
       "\n",
       "    .dataframe tbody tr th {\n",
       "        vertical-align: top;\n",
       "    }\n",
       "\n",
       "    .dataframe thead th {\n",
       "        text-align: right;\n",
       "    }\n",
       "</style>\n",
       "<table border=\"1\" class=\"dataframe\">\n",
       "  <thead>\n",
       "    <tr style=\"text-align: right;\">\n",
       "      <th></th>\n",
       "      <th>user_id</th>\n",
       "      <th>products_bought</th>\n",
       "      <th>total_amount</th>\n",
       "    </tr>\n",
       "  </thead>\n",
       "  <tbody>\n",
       "    <tr>\n",
       "      <th>0</th>\n",
       "      <td>50049</td>\n",
       "      <td>[MENS SHIRT, MENS SHIRT, MENS TROUSER WITH BELT]</td>\n",
       "      <td>3075.4242</td>\n",
       "    </tr>\n",
       "    <tr>\n",
       "      <th>1</th>\n",
       "      <td>50174</td>\n",
       "      <td>[MRG, MENS TROUSER WITH BELT, MENS TROUSER WIT...</td>\n",
       "      <td>49064.8000</td>\n",
       "    </tr>\n",
       "    <tr>\n",
       "      <th>2</th>\n",
       "      <td>50565</td>\n",
       "      <td>[BMK, BOYS T-SHIRT, CARRY BAG, MENS TROUSER WI...</td>\n",
       "      <td>10995.0000</td>\n",
       "    </tr>\n",
       "    <tr>\n",
       "      <th>3</th>\n",
       "      <td>53762</td>\n",
       "      <td>[MENS SHIRT, MENS SHIRT, MENS SHIRT]</td>\n",
       "      <td>5397.9999</td>\n",
       "    </tr>\n",
       "    <tr>\n",
       "      <th>4</th>\n",
       "      <td>53796</td>\n",
       "      <td>[MENS SHIRT, MMK, MENS SHIRT, BOYS SHIRT, MENS...</td>\n",
       "      <td>21946.9738</td>\n",
       "    </tr>\n",
       "    <tr>\n",
       "      <th>...</th>\n",
       "      <td>...</td>\n",
       "      <td>...</td>\n",
       "      <td>...</td>\n",
       "    </tr>\n",
       "    <tr>\n",
       "      <th>652068</th>\n",
       "      <td>535910369</td>\n",
       "      <td>[MENS TROUSER WITH BELT]</td>\n",
       "      <td>1999.0000</td>\n",
       "    </tr>\n",
       "    <tr>\n",
       "      <th>652069</th>\n",
       "      <td>535910379</td>\n",
       "      <td>[MENS SHIRT]</td>\n",
       "      <td>1999.0000</td>\n",
       "    </tr>\n",
       "    <tr>\n",
       "      <th>652070</th>\n",
       "      <td>535910444</td>\n",
       "      <td>[MENS TROUSER WITH BELT]</td>\n",
       "      <td>2299.0000</td>\n",
       "    </tr>\n",
       "    <tr>\n",
       "      <th>652071</th>\n",
       "      <td>535910454</td>\n",
       "      <td>[MENS SHIRT, MENS TROUSER WITH BELT]</td>\n",
       "      <td>3953.1192</td>\n",
       "    </tr>\n",
       "    <tr>\n",
       "      <th>652072</th>\n",
       "      <td>535910455</td>\n",
       "      <td>[MENS TROUSER WITH BELT]</td>\n",
       "      <td>2899.0000</td>\n",
       "    </tr>\n",
       "  </tbody>\n",
       "</table>\n",
       "<p>652073 rows × 3 columns</p>\n",
       "</div>"
      ],
      "text/plain": [
       "          user_id                                    products_bought  \\\n",
       "0           50049   [MENS SHIRT, MENS SHIRT, MENS TROUSER WITH BELT]   \n",
       "1           50174  [MRG, MENS TROUSER WITH BELT, MENS TROUSER WIT...   \n",
       "2           50565  [BMK, BOYS T-SHIRT, CARRY BAG, MENS TROUSER WI...   \n",
       "3           53762               [MENS SHIRT, MENS SHIRT, MENS SHIRT]   \n",
       "4           53796  [MENS SHIRT, MMK, MENS SHIRT, BOYS SHIRT, MENS...   \n",
       "...           ...                                                ...   \n",
       "652068  535910369                           [MENS TROUSER WITH BELT]   \n",
       "652069  535910379                                       [MENS SHIRT]   \n",
       "652070  535910444                           [MENS TROUSER WITH BELT]   \n",
       "652071  535910454               [MENS SHIRT, MENS TROUSER WITH BELT]   \n",
       "652072  535910455                           [MENS TROUSER WITH BELT]   \n",
       "\n",
       "        total_amount  \n",
       "0          3075.4242  \n",
       "1         49064.8000  \n",
       "2         10995.0000  \n",
       "3          5397.9999  \n",
       "4         21946.9738  \n",
       "...              ...  \n",
       "652068     1999.0000  \n",
       "652069     1999.0000  \n",
       "652070     2299.0000  \n",
       "652071     3953.1192  \n",
       "652072     2899.0000  \n",
       "\n",
       "[652073 rows x 3 columns]"
      ]
     },
     "execution_count": 34,
     "metadata": {},
     "output_type": "execute_result"
    }
   ],
   "source": [
    "grouped_data_1 = data.groupby(['user_id'])\n",
    "\n",
    "grouped_items = df.groupby('user_id').agg({\n",
    "    'product': lambda x: list(x),\n",
    "    'line_item_amount': 'sum'\n",
    "}).reset_index()\n",
    "\n",
    "# Renaming columns to match the required output\n",
    "grouped_items.columns = ['user_id', 'products_bought', 'total_amount']\n",
    "\n",
    "grouped_items"
   ]
  },
  {
   "cell_type": "code",
   "execution_count": 36,
   "metadata": {
    "colab": {
     "base_uri": "https://localhost:8080/",
     "height": 206
    },
    "id": "detS1ToBnepS",
    "outputId": "306b7cd5-6a93-46b4-c8b1-49625687ca5d"
   },
   "outputs": [
    {
     "data": {
      "text/html": [
       "<div>\n",
       "<style scoped>\n",
       "    .dataframe tbody tr th:only-of-type {\n",
       "        vertical-align: middle;\n",
       "    }\n",
       "\n",
       "    .dataframe tbody tr th {\n",
       "        vertical-align: top;\n",
       "    }\n",
       "\n",
       "    .dataframe thead th {\n",
       "        text-align: right;\n",
       "    }\n",
       "</style>\n",
       "<table border=\"1\" class=\"dataframe\">\n",
       "  <thead>\n",
       "    <tr style=\"text-align: right;\">\n",
       "      <th></th>\n",
       "      <th>user_id</th>\n",
       "      <th>products_bought</th>\n",
       "      <th>total_amount</th>\n",
       "    </tr>\n",
       "  </thead>\n",
       "  <tbody>\n",
       "    <tr>\n",
       "      <th>0</th>\n",
       "      <td>50049</td>\n",
       "      <td>[MENS SHIRT, MENS SHIRT, MENS TROUSER WITH BELT]</td>\n",
       "      <td>3075.4242</td>\n",
       "    </tr>\n",
       "    <tr>\n",
       "      <th>1</th>\n",
       "      <td>50174</td>\n",
       "      <td>[MRG, MENS TROUSER WITH BELT, MENS TROUSER WIT...</td>\n",
       "      <td>49064.8000</td>\n",
       "    </tr>\n",
       "    <tr>\n",
       "      <th>2</th>\n",
       "      <td>50565</td>\n",
       "      <td>[BMK, BOYS T-SHIRT, CARRY BAG, MENS TROUSER WI...</td>\n",
       "      <td>10995.0000</td>\n",
       "    </tr>\n",
       "    <tr>\n",
       "      <th>3</th>\n",
       "      <td>53762</td>\n",
       "      <td>[MENS SHIRT, MENS SHIRT, MENS SHIRT]</td>\n",
       "      <td>5397.9999</td>\n",
       "    </tr>\n",
       "    <tr>\n",
       "      <th>4</th>\n",
       "      <td>53796</td>\n",
       "      <td>[MENS SHIRT, MMK, MENS SHIRT, BOYS SHIRT, MENS...</td>\n",
       "      <td>21946.9738</td>\n",
       "    </tr>\n",
       "  </tbody>\n",
       "</table>\n",
       "</div>"
      ],
      "text/plain": [
       "   user_id                                    products_bought  total_amount\n",
       "0    50049   [MENS SHIRT, MENS SHIRT, MENS TROUSER WITH BELT]     3075.4242\n",
       "1    50174  [MRG, MENS TROUSER WITH BELT, MENS TROUSER WIT...    49064.8000\n",
       "2    50565  [BMK, BOYS T-SHIRT, CARRY BAG, MENS TROUSER WI...    10995.0000\n",
       "3    53762               [MENS SHIRT, MENS SHIRT, MENS SHIRT]     5397.9999\n",
       "4    53796  [MENS SHIRT, MMK, MENS SHIRT, BOYS SHIRT, MENS...    21946.9738"
      ]
     },
     "execution_count": 36,
     "metadata": {},
     "output_type": "execute_result"
    }
   ],
   "source": [
    "grouped_items.head()"
   ]
  },
  {
   "cell_type": "markdown",
   "metadata": {},
   "source": [
    "# Encoding and scaling data for ANN"
   ]
  },
  {
   "cell_type": "code",
   "execution_count": 37,
   "metadata": {
    "id": "duBznKFTk9vV"
   },
   "outputs": [],
   "source": [
    "mlb = MultiLabelBinarizer()\n",
    "product_features = mlb.fit_transform(grouped_items['products_bought'])"
   ]
  },
  {
   "cell_type": "code",
   "execution_count": 38,
   "metadata": {
    "colab": {
     "base_uri": "https://localhost:8080/"
    },
    "id": "nFMPfbsepPvG",
    "outputId": "03b4c52e-3273-4f4a-a767-4197f5888db0"
   },
   "outputs": [
    {
     "name": "stdout",
     "output_type": "stream",
     "text": [
      "[[0 0 0 ... 0 0 0]\n",
      " [0 0 0 ... 0 0 0]\n",
      " [0 0 1 ... 0 0 0]\n",
      " ...\n",
      " [0 0 0 ... 0 0 0]\n",
      " [0 0 0 ... 0 0 0]\n",
      " [0 0 0 ... 0 0 0]]\n"
     ]
    }
   ],
   "source": [
    "print(product_features)"
   ]
  },
  {
   "cell_type": "code",
   "execution_count": 39,
   "metadata": {
    "id": "d_LO7pmNlWRo"
   },
   "outputs": [],
   "source": [
    "scaler = StandardScaler()\n",
    "amount_features = scaler.fit_transform(grouped_items[['total_amount']])"
   ]
  },
  {
   "cell_type": "code",
   "execution_count": 40,
   "metadata": {
    "id": "m482RR6llaL7"
   },
   "outputs": [],
   "source": [
    "# Combine product features and amount features\n",
    "X = np.concatenate((product_features, amount_features), axis=1)\n",
    "y = product_features  # The target is also the products"
   ]
  },
  {
   "cell_type": "code",
   "execution_count": 41,
   "metadata": {
    "colab": {
     "base_uri": "https://localhost:8080/"
    },
    "id": "24ymNFmZxWhI",
    "outputId": "e1cd78b3-5d26-4619-86fa-5c36114cf305"
   },
   "outputs": [
    {
     "name": "stdout",
     "output_type": "stream",
     "text": [
      "[[ 0.          0.          0.         ...  0.          0.\n",
      "  -0.32315531]\n",
      " [ 0.          0.          0.         ...  0.          0.\n",
      "   3.23519219]\n",
      " [ 0.          0.          1.         ...  0.          0.\n",
      "   0.28960801]\n",
      " ...\n",
      " [ 0.          0.          0.         ...  0.          0.\n",
      "  -0.38322978]\n",
      " [ 0.          0.          0.         ...  0.          0.\n",
      "  -0.2552452 ]\n",
      " [ 0.          0.          0.         ...  0.          0.\n",
      "  -0.33680583]]\n"
     ]
    }
   ],
   "source": [
    "print(X)"
   ]
  },
  {
   "cell_type": "code",
   "execution_count": 42,
   "metadata": {
    "colab": {
     "base_uri": "https://localhost:8080/"
    },
    "id": "ZPYGZRi2xa0o",
    "outputId": "e5fb6057-def3-4aef-d4b3-fa863e834b11"
   },
   "outputs": [
    {
     "name": "stdout",
     "output_type": "stream",
     "text": [
      "(652073, 42)\n"
     ]
    }
   ],
   "source": [
    "print(y.shape)"
   ]
  },
  {
   "cell_type": "markdown",
   "metadata": {},
   "source": [
    "# Applying ANN"
   ]
  },
  {
   "cell_type": "code",
   "execution_count": 43,
   "metadata": {
    "id": "DZR5TVCDl4D0"
   },
   "outputs": [
    {
     "name": "stdout",
     "output_type": "stream",
     "text": [
      "WARNING:tensorflow:From E:\\New_folder\\Lib\\site-packages\\keras\\src\\backend.py:873: The name tf.get_default_graph is deprecated. Please use tf.compat.v1.get_default_graph instead.\n",
      "\n"
     ]
    }
   ],
   "source": [
    "# Split the data\n",
    "X_train, X_test, y_train, y_test = train_test_split(X, y, test_size=0.2, random_state=42)\n",
    "\n",
    "model = Sequential()\n",
    "model.add(Dense(128, activation='relu', input_dim=X_train.shape[1]))\n",
    "model.add(Dense(64, activation='relu'))\n",
    "model.add(Dense(y_train.shape[1], activation='sigmoid'))"
   ]
  },
  {
   "cell_type": "code",
   "execution_count": 44,
   "metadata": {
    "colab": {
     "base_uri": "https://localhost:8080/"
    },
    "id": "VOWb1c50l7X-",
    "outputId": "ac79b818-66c8-443c-f3e0-dfac0a20d47d"
   },
   "outputs": [
    {
     "name": "stdout",
     "output_type": "stream",
     "text": [
      "WARNING:tensorflow:From E:\\New_folder\\Lib\\site-packages\\keras\\src\\optimizers\\__init__.py:309: The name tf.train.Optimizer is deprecated. Please use tf.compat.v1.train.Optimizer instead.\n",
      "\n",
      "Epoch 1/20\n",
      "WARNING:tensorflow:From E:\\New_folder\\Lib\\site-packages\\keras\\src\\utils\\tf_utils.py:492: The name tf.ragged.RaggedTensorValue is deprecated. Please use tf.compat.v1.ragged.RaggedTensorValue instead.\n",
      "\n",
      "WARNING:tensorflow:From E:\\New_folder\\Lib\\site-packages\\keras\\src\\engine\\base_layer_utils.py:384: The name tf.executing_eagerly_outside_functions is deprecated. Please use tf.compat.v1.executing_eagerly_outside_functions instead.\n",
      "\n",
      "4076/4076 [==============================] - 24s 5ms/step - loss: 0.0133 - mean_absolute_error: 0.0091\n",
      "Epoch 2/20\n",
      "4076/4076 [==============================] - 19s 5ms/step - loss: 1.0292e-04 - mean_absolute_error: 6.6152e-05\n",
      "Epoch 3/20\n",
      "4076/4076 [==============================] - 20s 5ms/step - loss: 3.7467e-05 - mean_absolute_error: 2.1597e-05\n",
      "Epoch 4/20\n",
      "4076/4076 [==============================] - 20s 5ms/step - loss: 2.4929e-05 - mean_absolute_error: 1.3716e-05\n",
      "Epoch 5/20\n",
      "4076/4076 [==============================] - 20s 5ms/step - loss: 1.6179e-05 - mean_absolute_error: 9.3352e-06\n",
      "Epoch 6/20\n",
      "4076/4076 [==============================] - 20s 5ms/step - loss: 1.3580e-05 - mean_absolute_error: 6.9836e-06\n",
      "Epoch 7/20\n",
      "4076/4076 [==============================] - 20s 5ms/step - loss: 1.5225e-05 - mean_absolute_error: 6.9024e-06\n",
      "Epoch 8/20\n",
      "4076/4076 [==============================] - 20s 5ms/step - loss: 1.4474e-05 - mean_absolute_error: 6.5413e-06\n",
      "Epoch 9/20\n",
      "4076/4076 [==============================] - 20s 5ms/step - loss: 1.2790e-05 - mean_absolute_error: 4.5378e-06\n",
      "Epoch 10/20\n",
      "4076/4076 [==============================] - 19s 5ms/step - loss: 1.6894e-05 - mean_absolute_error: 6.7216e-06\n",
      "Epoch 11/20\n",
      "4076/4076 [==============================] - 19s 5ms/step - loss: 1.1373e-05 - mean_absolute_error: 4.4858e-06\n",
      "Epoch 12/20\n",
      "4076/4076 [==============================] - 20s 5ms/step - loss: 1.6210e-05 - mean_absolute_error: 4.6797e-06\n",
      "Epoch 13/20\n",
      "4076/4076 [==============================] - 21s 5ms/step - loss: 1.2111e-05 - mean_absolute_error: 4.3736e-06\n",
      "Epoch 14/20\n",
      "4076/4076 [==============================] - 20s 5ms/step - loss: 1.2595e-05 - mean_absolute_error: 4.7532e-06\n",
      "Epoch 15/20\n",
      "4076/4076 [==============================] - 20s 5ms/step - loss: 1.7600e-05 - mean_absolute_error: 4.4360e-06\n",
      "Epoch 16/20\n",
      "4076/4076 [==============================] - 21s 5ms/step - loss: 9.0320e-06 - mean_absolute_error: 3.0876e-06\n",
      "Epoch 17/20\n",
      "4076/4076 [==============================] - 20s 5ms/step - loss: 1.7140e-05 - mean_absolute_error: 5.2165e-06\n",
      "Epoch 18/20\n",
      "4076/4076 [==============================] - 21s 5ms/step - loss: 1.1482e-05 - mean_absolute_error: 3.6896e-06\n",
      "Epoch 19/20\n",
      "4076/4076 [==============================] - 21s 5ms/step - loss: 9.9157e-06 - mean_absolute_error: 3.0832e-06\n",
      "Epoch 20/20\n",
      "4076/4076 [==============================] - 21s 5ms/step - loss: 1.2793e-05 - mean_absolute_error: 3.6704e-06\n",
      "4076/4076 [==============================] - 13s 3ms/step\n"
     ]
    }
   ],
   "source": [
    "# Compile the model\n",
    "model.compile(optimizer='adam', loss='binary_crossentropy', metrics=['mean_absolute_error'])\n",
    "\n",
    "# Train the model\n",
    "model.fit(X_train, y_train, epochs=20, batch_size=128)\n",
    "\n",
    "# Evaluate the model\n",
    "y_pred = model.predict(X_test)\n",
    "y_pred_binarized = (y_pred > 0.5).astype(int)  # Threshold to determine if a label should be assigned"
   ]
  },
  {
   "cell_type": "code",
   "execution_count": 50,
   "metadata": {
    "colab": {
     "base_uri": "https://localhost:8080/"
    },
    "id": "MP9VT9H1uSn1",
    "outputId": "0fd70852-5e61-481b-8027-8cf365a30cfa"
   },
   "outputs": [
    {
     "name": "stdout",
     "output_type": "stream",
     "text": [
      "Hamming Loss: 2.0082410911686686e-06\n"
     ]
    }
   ],
   "source": [
    "from sklearn.metrics import hamming_loss\n",
    "# Hamming loss\n",
    "hamming_loss_value = hamming_loss(y_test, y_pred_binarized)\n",
    "print(f'Hamming Loss: {hamming_loss_value}')"
   ]
  },
  {
   "cell_type": "markdown",
   "metadata": {},
   "source": [
    "# Grouping Data for Kmeans Clustering"
   ]
  },
  {
   "cell_type": "markdown",
   "metadata": {
    "id": "E8qXwF-1xEM4"
   },
   "source": [
    "we are trying to predict top 5 things they will buy\n",
    "\n",
    "Do we have the data for that\n",
    "\n",
    "1234 he has bought something\n",
    "1234 has bought something else also.\n",
    "\n",
    "1234 - A, B, C, D,......G\n",
    "4321 - D, F , G... ..A\n"
   ]
  },
  {
   "cell_type": "code",
   "execution_count": 51,
   "metadata": {
    "id": "S4LK8P9R1tr7"
   },
   "outputs": [],
   "source": [
    "data.rename(columns={'ic_copy': 'inventory_category'}, inplace=True)"
   ]
  },
  {
   "cell_type": "code",
   "execution_count": 52,
   "metadata": {
    "colab": {
     "base_uri": "https://localhost:8080/",
     "height": 206
    },
    "id": "5GhcP-S84czT",
    "outputId": "8b4f70ab-ac08-461b-94d4-1c4681bfbfb6"
   },
   "outputs": [
    {
     "data": {
      "text/html": [
       "<div>\n",
       "<style scoped>\n",
       "    .dataframe tbody tr th:only-of-type {\n",
       "        vertical-align: middle;\n",
       "    }\n",
       "\n",
       "    .dataframe tbody tr th {\n",
       "        vertical-align: top;\n",
       "    }\n",
       "\n",
       "    .dataframe thead th {\n",
       "        text-align: right;\n",
       "    }\n",
       "</style>\n",
       "<table border=\"1\" class=\"dataframe\">\n",
       "  <thead>\n",
       "    <tr style=\"text-align: right;\">\n",
       "      <th></th>\n",
       "      <th>user_id</th>\n",
       "      <th>bill_id</th>\n",
       "      <th>line_item_amount</th>\n",
       "      <th>bill_discount</th>\n",
       "      <th>day</th>\n",
       "      <th>month</th>\n",
       "      <th>day_of_week</th>\n",
       "      <th>quarter</th>\n",
       "      <th>day_of_year</th>\n",
       "      <th>inventory_category</th>\n",
       "      <th>colour</th>\n",
       "      <th>size</th>\n",
       "      <th>zone_name</th>\n",
       "      <th>store_name</th>\n",
       "      <th>product</th>\n",
       "    </tr>\n",
       "  </thead>\n",
       "  <tbody>\n",
       "    <tr>\n",
       "      <th>0</th>\n",
       "      <td>519644808</td>\n",
       "      <td>741961800</td>\n",
       "      <td>559.6000</td>\n",
       "      <td>0.0</td>\n",
       "      <td>20</td>\n",
       "      <td>4</td>\n",
       "      <td>2</td>\n",
       "      <td>2</td>\n",
       "      <td>110</td>\n",
       "      <td>MENS BELT</td>\n",
       "      <td>Tan</td>\n",
       "      <td>32</td>\n",
       "      <td>North</td>\n",
       "      <td>North_6023</td>\n",
       "      <td>MENS BELT</td>\n",
       "    </tr>\n",
       "    <tr>\n",
       "      <th>2</th>\n",
       "      <td>504795522</td>\n",
       "      <td>692673877</td>\n",
       "      <td>699.5000</td>\n",
       "      <td>0.0</td>\n",
       "      <td>27</td>\n",
       "      <td>1</td>\n",
       "      <td>3</td>\n",
       "      <td>1</td>\n",
       "      <td>27</td>\n",
       "      <td>MENS BELT</td>\n",
       "      <td>Tan</td>\n",
       "      <td>34</td>\n",
       "      <td>East</td>\n",
       "      <td>East_6510</td>\n",
       "      <td>MENS BELT</td>\n",
       "    </tr>\n",
       "    <tr>\n",
       "      <th>3</th>\n",
       "      <td>12626591</td>\n",
       "      <td>768369011</td>\n",
       "      <td>519.6000</td>\n",
       "      <td>0.0</td>\n",
       "      <td>9</td>\n",
       "      <td>10</td>\n",
       "      <td>6</td>\n",
       "      <td>4</td>\n",
       "      <td>282</td>\n",
       "      <td>MENS BELT</td>\n",
       "      <td>Dark Brown</td>\n",
       "      <td>32</td>\n",
       "      <td>South</td>\n",
       "      <td>South_6017</td>\n",
       "      <td>MENS BELT</td>\n",
       "    </tr>\n",
       "    <tr>\n",
       "      <th>10</th>\n",
       "      <td>496507098</td>\n",
       "      <td>779140853</td>\n",
       "      <td>559.6000</td>\n",
       "      <td>0.0</td>\n",
       "      <td>10</td>\n",
       "      <td>11</td>\n",
       "      <td>3</td>\n",
       "      <td>4</td>\n",
       "      <td>314</td>\n",
       "      <td>MENS BELT</td>\n",
       "      <td>Tan</td>\n",
       "      <td>34</td>\n",
       "      <td>South</td>\n",
       "      <td>South_6028</td>\n",
       "      <td>MENS BELT</td>\n",
       "    </tr>\n",
       "    <tr>\n",
       "      <th>12</th>\n",
       "      <td>518922122</td>\n",
       "      <td>740235900</td>\n",
       "      <td>937.1713</td>\n",
       "      <td>0.0</td>\n",
       "      <td>4</td>\n",
       "      <td>7</td>\n",
       "      <td>0</td>\n",
       "      <td>3</td>\n",
       "      <td>185</td>\n",
       "      <td>BOYS SWEATER</td>\n",
       "      <td>Navy</td>\n",
       "      <td>L</td>\n",
       "      <td>South</td>\n",
       "      <td>South_6028</td>\n",
       "      <td>BOYS SWEATER</td>\n",
       "    </tr>\n",
       "  </tbody>\n",
       "</table>\n",
       "</div>"
      ],
      "text/plain": [
       "      user_id    bill_id  line_item_amount  bill_discount  day  month  \\\n",
       "0   519644808  741961800          559.6000            0.0   20      4   \n",
       "2   504795522  692673877          699.5000            0.0   27      1   \n",
       "3    12626591  768369011          519.6000            0.0    9     10   \n",
       "10  496507098  779140853          559.6000            0.0   10     11   \n",
       "12  518922122  740235900          937.1713            0.0    4      7   \n",
       "\n",
       "    day_of_week  quarter  day_of_year inventory_category      colour size  \\\n",
       "0             2        2          110          MENS BELT         Tan   32   \n",
       "2             3        1           27          MENS BELT         Tan   34   \n",
       "3             6        4          282          MENS BELT  Dark Brown   32   \n",
       "10            3        4          314          MENS BELT         Tan   34   \n",
       "12            0        3          185       BOYS SWEATER        Navy    L   \n",
       "\n",
       "   zone_name  store_name       product  \n",
       "0      North  North_6023     MENS BELT  \n",
       "2       East   East_6510     MENS BELT  \n",
       "3      South  South_6017     MENS BELT  \n",
       "10     South  South_6028     MENS BELT  \n",
       "12     South  South_6028  BOYS SWEATER  "
      ]
     },
     "execution_count": 52,
     "metadata": {},
     "output_type": "execute_result"
    }
   ],
   "source": [
    "data.head()"
   ]
  },
  {
   "cell_type": "code",
   "execution_count": 53,
   "metadata": {},
   "outputs": [
    {
     "data": {
      "text/plain": [
       "(3322969, 15)"
      ]
     },
     "execution_count": 53,
     "metadata": {},
     "output_type": "execute_result"
    }
   ],
   "source": [
    "data.shape"
   ]
  },
  {
   "cell_type": "code",
   "execution_count": 54,
   "metadata": {},
   "outputs": [
    {
     "data": {
      "text/html": [
       "<div>\n",
       "<style scoped>\n",
       "    .dataframe tbody tr th:only-of-type {\n",
       "        vertical-align: middle;\n",
       "    }\n",
       "\n",
       "    .dataframe tbody tr th {\n",
       "        vertical-align: top;\n",
       "    }\n",
       "\n",
       "    .dataframe thead th {\n",
       "        text-align: right;\n",
       "    }\n",
       "</style>\n",
       "<table border=\"1\" class=\"dataframe\">\n",
       "  <thead>\n",
       "    <tr style=\"text-align: right;\">\n",
       "      <th></th>\n",
       "      <th>bill_id</th>\n",
       "      <th>products_bought</th>\n",
       "      <th>colour</th>\n",
       "      <th>size</th>\n",
       "      <th>total_amount</th>\n",
       "    </tr>\n",
       "  </thead>\n",
       "  <tbody>\n",
       "    <tr>\n",
       "      <th>0</th>\n",
       "      <td>360304673</td>\n",
       "      <td>[MENS DENIM]</td>\n",
       "      <td>[Dark Wash]</td>\n",
       "      <td>[30]</td>\n",
       "      <td>1910.2650</td>\n",
       "    </tr>\n",
       "    <tr>\n",
       "      <th>1</th>\n",
       "      <td>360304720</td>\n",
       "      <td>[MENS DENIM, MENS SHIRT, MENS TROUSER WITH BEL...</td>\n",
       "      <td>[Grey, White, Stone, Light Oxy]</td>\n",
       "      <td>[36, S, 40, 36]</td>\n",
       "      <td>5562.8997</td>\n",
       "    </tr>\n",
       "    <tr>\n",
       "      <th>2</th>\n",
       "      <td>360305281</td>\n",
       "      <td>[MENS T-SHIRT]</td>\n",
       "      <td>[Navy]</td>\n",
       "      <td>[S]</td>\n",
       "      <td>1506.0100</td>\n",
       "    </tr>\n",
       "    <tr>\n",
       "      <th>3</th>\n",
       "      <td>360305295</td>\n",
       "      <td>[MENS SHIRT, MENS TROUSER, MENS TROUSER, MENS ...</td>\n",
       "      <td>[Sky, Stone, Dark Navy, Navy]</td>\n",
       "      <td>[M, 34, 34, L]</td>\n",
       "      <td>5247.9000</td>\n",
       "    </tr>\n",
       "    <tr>\n",
       "      <th>4</th>\n",
       "      <td>360305628</td>\n",
       "      <td>[MENS SHIRT, MENS SHIRT, MENS SHIRT]</td>\n",
       "      <td>[Ochre, Navy, Gasoline]</td>\n",
       "      <td>[L, L, L]</td>\n",
       "      <td>4302.9000</td>\n",
       "    </tr>\n",
       "    <tr>\n",
       "      <th>...</th>\n",
       "      <td>...</td>\n",
       "      <td>...</td>\n",
       "      <td>...</td>\n",
       "      <td>...</td>\n",
       "      <td>...</td>\n",
       "    </tr>\n",
       "    <tr>\n",
       "      <th>1190048</th>\n",
       "      <td>797262001</td>\n",
       "      <td>[MENS TROUSER WITH BELT]</td>\n",
       "      <td>[Black]</td>\n",
       "      <td>[30]</td>\n",
       "      <td>2299.0000</td>\n",
       "    </tr>\n",
       "    <tr>\n",
       "      <th>1190049</th>\n",
       "      <td>797262065</td>\n",
       "      <td>[MENS SHIRT, MENS TROUSER WITH BELT]</td>\n",
       "      <td>[Grey, Stone]</td>\n",
       "      <td>[XL, 34]</td>\n",
       "      <td>3953.1192</td>\n",
       "    </tr>\n",
       "    <tr>\n",
       "      <th>1190050</th>\n",
       "      <td>797262066</td>\n",
       "      <td>[MENS TROUSER WITH BELT]</td>\n",
       "      <td>[Stone]</td>\n",
       "      <td>[36]</td>\n",
       "      <td>2069.1000</td>\n",
       "    </tr>\n",
       "    <tr>\n",
       "      <th>1190051</th>\n",
       "      <td>797262071</td>\n",
       "      <td>[MENS TROUSER WITH BELT]</td>\n",
       "      <td>[Olive]</td>\n",
       "      <td>[34]</td>\n",
       "      <td>2899.0000</td>\n",
       "    </tr>\n",
       "    <tr>\n",
       "      <th>1190052</th>\n",
       "      <td>797262088</td>\n",
       "      <td>[MENS TROUSER WITH BELT]</td>\n",
       "      <td>[Black]</td>\n",
       "      <td>[34]</td>\n",
       "      <td>1079.9565</td>\n",
       "    </tr>\n",
       "  </tbody>\n",
       "</table>\n",
       "<p>1190053 rows × 5 columns</p>\n",
       "</div>"
      ],
      "text/plain": [
       "           bill_id                                    products_bought  \\\n",
       "0        360304673                                       [MENS DENIM]   \n",
       "1        360304720  [MENS DENIM, MENS SHIRT, MENS TROUSER WITH BEL...   \n",
       "2        360305281                                     [MENS T-SHIRT]   \n",
       "3        360305295  [MENS SHIRT, MENS TROUSER, MENS TROUSER, MENS ...   \n",
       "4        360305628               [MENS SHIRT, MENS SHIRT, MENS SHIRT]   \n",
       "...            ...                                                ...   \n",
       "1190048  797262001                           [MENS TROUSER WITH BELT]   \n",
       "1190049  797262065               [MENS SHIRT, MENS TROUSER WITH BELT]   \n",
       "1190050  797262066                           [MENS TROUSER WITH BELT]   \n",
       "1190051  797262071                           [MENS TROUSER WITH BELT]   \n",
       "1190052  797262088                           [MENS TROUSER WITH BELT]   \n",
       "\n",
       "                                  colour             size  total_amount  \n",
       "0                            [Dark Wash]             [30]     1910.2650  \n",
       "1        [Grey, White, Stone, Light Oxy]  [36, S, 40, 36]     5562.8997  \n",
       "2                                 [Navy]              [S]     1506.0100  \n",
       "3          [Sky, Stone, Dark Navy, Navy]   [M, 34, 34, L]     5247.9000  \n",
       "4                [Ochre, Navy, Gasoline]        [L, L, L]     4302.9000  \n",
       "...                                  ...              ...           ...  \n",
       "1190048                          [Black]             [30]     2299.0000  \n",
       "1190049                    [Grey, Stone]         [XL, 34]     3953.1192  \n",
       "1190050                          [Stone]             [36]     2069.1000  \n",
       "1190051                          [Olive]             [34]     2899.0000  \n",
       "1190052                          [Black]             [34]     1079.9565  \n",
       "\n",
       "[1190053 rows x 5 columns]"
      ]
     },
     "execution_count": 54,
     "metadata": {},
     "output_type": "execute_result"
    }
   ],
   "source": [
    "grouped_data_kmeans = data.groupby(['bill_id'])\n",
    "\n",
    "grouped_items_kmeans = data.groupby('bill_id').agg({\n",
    "    'product': lambda x: list(x),\n",
    "    'colour' :lambda y: list(y),\n",
    "    'size' :lambda z: list(z),\n",
    "    'line_item_amount': 'sum'\n",
    "}).reset_index()\n",
    "\n",
    "# Renaming columns to match the required output\n",
    "grouped_items_kmeans.columns = ['bill_id', 'products_bought', 'colour','size','total_amount']\n",
    "\n",
    "grouped_items_kmeans"
   ]
  },
  {
   "cell_type": "markdown",
   "metadata": {},
   "source": [
    "# Encoding and Scaling Features for Kmeans"
   ]
  },
  {
   "cell_type": "code",
   "execution_count": 77,
   "metadata": {},
   "outputs": [],
   "source": [
    "import pandas as pd\n",
    "from sklearn.preprocessing import MultiLabelBinarizer, StandardScaler\n",
    "from sklearn.cluster import KMeans\n",
    "\n",
    "# Assuming df is your DataFrame\n",
    "#grouped_items_kmeans['products_bought'] = grouped_items_kmeans['products_bought'].apply(eval)  # Convert string representation of lists to actual lists\n",
    "\n",
    "# One-hot encode categorical features\n",
    "mlb = MultiLabelBinarizer()\n",
    "products_encoded = pd.DataFrame(mlb.fit_transform(grouped_items_kmeans['products_bought']), columns=mlb.classes_, index=grouped_items_kmeans.index)\n",
    "colour_encoded = pd.DataFrame(mlb.fit_transform(grouped_items_kmeans['colour']), columns=mlb.classes_, index=grouped_items_kmeans.index)\n",
    "size_encoded = pd.DataFrame(mlb.fit_transform(grouped_items_kmeans['size']), columns=mlb.classes_, index=grouped_items_kmeans.index)\n",
    "\n",
    "# Combine one-hot encoded features with other numerical features\n",
    "numerical_features = ['total_amount']\n",
    "grouped_items_kmeans_encoded = pd.concat([products_encoded,colour_encoded,size_encoded,grouped_items_kmeans[numerical_features]], axis=1)\n",
    "\n",
    "# Standardize numerical features\n",
    "scaler = StandardScaler()\n",
    "grouped_items_kmeans_encoded[numerical_features] = scaler.fit_transform(grouped_items_kmeans_encoded[numerical_features])\n",
    "\n",
    "\n"
   ]
  },
  {
   "cell_type": "markdown",
   "metadata": {},
   "source": [
    "# Applying KMeans Clustering on Grouped Data"
   ]
  },
  {
   "cell_type": "code",
   "execution_count": null,
   "metadata": {},
   "outputs": [],
   "source": [
    "# Apply k-means clustering\n",
    "k = 3  # You can choose the number of clusters based on your understanding of the data\n",
    "kmeans = KMeans(n_clusters=k, random_state=42)\n",
    "\n",
    "grouped_items_kmeans['cluster'] = kmeans.fit_predict(grouped_items_kmeans_encoded)\n"
   ]
  },
  {
   "cell_type": "code",
   "execution_count": 80,
   "metadata": {},
   "outputs": [
    {
     "name": "stdout",
     "output_type": "stream",
     "text": [
      "           bill_id                                    products_bought  cluster\n",
      "1        360304720  [MENS DENIM, MENS SHIRT, MENS TROUSER WITH BEL...        6\n",
      "3        360305295  [MENS SHIRT, MENS TROUSER, MENS TROUSER, MENS ...        6\n",
      "4        360305628               [MENS SHIRT, MENS SHIRT, MENS SHIRT]       22\n",
      "5        360305704  [MENS TROUSER, MENS TROUSER, MENS TROUSER, MEN...        6\n",
      "10       360306431               [MENS DENIM, MENS DENIM, MENS DENIM]        6\n",
      "...            ...                                                ...      ...\n",
      "1189942  795187830  [MENS TROUSER WITH BELT, MENS TROUSER WITH BEL...        6\n",
      "1189967  795210351  [MENS TROUSER WITH BELT, MENS TROUSER WITH BEL...        6\n",
      "1189968  795211529  [MENS TROUSER WITH BELT, MENS TROUSER WITH BEL...        6\n",
      "1190014  797261116  [MENS TROUSER WITH BELT, MENS TROUSER WITH BEL...        6\n",
      "1190040  797261462  [MENS TROUSER WITH BELT, MENS TROUSER WITH BEL...        6\n",
      "\n",
      "[549301 rows x 3 columns]\n"
     ]
    }
   ],
   "source": [
    "# Display the resulting DataFrame with cluster assignments\n",
    "print(items_kmeans_filtered[['bill_id', 'products_bought', 'cluster']])"
   ]
  },
  {
   "cell_type": "code",
   "execution_count": 83,
   "metadata": {},
   "outputs": [
    {
     "name": "stderr",
     "output_type": "stream",
     "text": [
      "E:\\New_folder\\Lib\\site-packages\\sklearn\\cluster\\_kmeans.py:1412: FutureWarning: The default value of `n_init` will change from 10 to 'auto' in 1.4. Set the value of `n_init` explicitly to suppress the warning\n",
      "  super()._check_params_vs_input(X, default_n_init=10)\n",
      "E:\\New_folder\\Lib\\site-packages\\sklearn\\cluster\\_kmeans.py:1412: FutureWarning: The default value of `n_init` will change from 10 to 'auto' in 1.4. Set the value of `n_init` explicitly to suppress the warning\n",
      "  super()._check_params_vs_input(X, default_n_init=10)\n",
      "E:\\New_folder\\Lib\\site-packages\\sklearn\\cluster\\_kmeans.py:1412: FutureWarning: The default value of `n_init` will change from 10 to 'auto' in 1.4. Set the value of `n_init` explicitly to suppress the warning\n",
      "  super()._check_params_vs_input(X, default_n_init=10)\n",
      "E:\\New_folder\\Lib\\site-packages\\sklearn\\cluster\\_kmeans.py:1412: FutureWarning: The default value of `n_init` will change from 10 to 'auto' in 1.4. Set the value of `n_init` explicitly to suppress the warning\n",
      "  super()._check_params_vs_input(X, default_n_init=10)\n",
      "E:\\New_folder\\Lib\\site-packages\\sklearn\\cluster\\_kmeans.py:1412: FutureWarning: The default value of `n_init` will change from 10 to 'auto' in 1.4. Set the value of `n_init` explicitly to suppress the warning\n",
      "  super()._check_params_vs_input(X, default_n_init=10)\n",
      "E:\\New_folder\\Lib\\site-packages\\sklearn\\cluster\\_kmeans.py:1412: FutureWarning: The default value of `n_init` will change from 10 to 'auto' in 1.4. Set the value of `n_init` explicitly to suppress the warning\n",
      "  super()._check_params_vs_input(X, default_n_init=10)\n",
      "E:\\New_folder\\Lib\\site-packages\\sklearn\\cluster\\_kmeans.py:1412: FutureWarning: The default value of `n_init` will change from 10 to 'auto' in 1.4. Set the value of `n_init` explicitly to suppress the warning\n",
      "  super()._check_params_vs_input(X, default_n_init=10)\n",
      "E:\\New_folder\\Lib\\site-packages\\sklearn\\cluster\\_kmeans.py:1412: FutureWarning: The default value of `n_init` will change from 10 to 'auto' in 1.4. Set the value of `n_init` explicitly to suppress the warning\n",
      "  super()._check_params_vs_input(X, default_n_init=10)\n",
      "E:\\New_folder\\Lib\\site-packages\\sklearn\\cluster\\_kmeans.py:1412: FutureWarning: The default value of `n_init` will change from 10 to 'auto' in 1.4. Set the value of `n_init` explicitly to suppress the warning\n",
      "  super()._check_params_vs_input(X, default_n_init=10)\n",
      "E:\\New_folder\\Lib\\site-packages\\sklearn\\cluster\\_kmeans.py:1412: FutureWarning: The default value of `n_init` will change from 10 to 'auto' in 1.4. Set the value of `n_init` explicitly to suppress the warning\n",
      "  super()._check_params_vs_input(X, default_n_init=10)\n"
     ]
    }
   ],
   "source": [
    "k_values = range(1, 11)\n",
    "\n",
    "# List to store inertias for each k\n",
    "inertias = []\n",
    "\n",
    "# Fit k-means for each value of k and store inertia\n",
    "for k in k_values:\n",
    "    kmeans = KMeans(n_clusters=k, random_state=42)\n",
    "    kmeans.fit(grouped_items_kmeans_encoded)\n",
    "    inertias.append(kmeans.inertia_)\n",
    "\n"
   ]
  },
  {
   "cell_type": "code",
   "execution_count": 84,
   "metadata": {},
   "outputs": [
    {
     "data": {
      "image/png": "[encoded data removed]",
      "text/plain": [
       "<Figure size 640x480 with 1 Axes>"
      ]
     },
     "metadata": {},
     "output_type": "display_data"
    }
   ],
   "source": [
    "# Plot the elbow curve\n",
    "plt.plot(k_values, inertias, marker='o')\n",
    "plt.xlabel('Number of Clusters (k)')\n",
    "plt.ylabel('Inertia')\n",
    "plt.title('Elbow Method for Optimal k')\n",
    "plt.yticks([])\n",
    "plt.show()"
   ]
  },
  {
   "cell_type": "markdown",
   "metadata": {
    "id": "WbDmI01m1hV-"
   },
   "source": [
    "\n"
   ]
  }
 ],
 "metadata": {
  "colab": {
   "provenance": []
  },
  "kernelspec": {
   "display_name": "Python 3 (ipykernel)",
   "language": "python",
   "name": "python3"
  },
  "language_info": {
   "codemirror_mode": {
    "name": "ipython",
    "version": 3
   },
   "file_extension": ".py",
   "mimetype": "text/x-python",
   "name": "python",
   "nbconvert_exporter": "python",
   "pygments_lexer": "ipython3",
   "version": "3.11.5"
  }
 },
 "nbformat": 4,
 "nbformat_minor": 1
}
